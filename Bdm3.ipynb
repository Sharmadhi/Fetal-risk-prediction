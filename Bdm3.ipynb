{
  "nbformat": 4,
  "nbformat_minor": 0,
  "metadata": {
    "kernelspec": {
      "display_name": "Python 3",
      "language": "python",
      "name": "python3"
    },
    "language_info": {
      "codemirror_mode": {
        "name": "ipython",
        "version": 3
      },
      "file_extension": ".py",
      "mimetype": "text/x-python",
      "name": "python",
      "nbconvert_exporter": "python",
      "pygments_lexer": "ipython3",
      "version": "3.8.3"
    },
    "colab": {
      "provenance": [],
      "collapsed_sections": []
    }
  },
  "cells": [
    {
      "cell_type": "markdown",
      "metadata": {
        "id": "ZJjd8rh2ybgA"
      },
      "source": [
        "# Modeling Process With Experimental Feature Database"
      ]
    },
    {
      "cell_type": "code",
      "metadata": {
        "id": "m9SB26otybgD",
        "colab": {
          "base_uri": "https://localhost:8080/"
        },
        "outputId": "65d1f6a8-abef-47fc-f9f5-0fbdea1b9d1a"
      },
      "source": [
        "import pandas as pd\n",
        "import seaborn as sns\n",
        "import numpy as np\n",
        "import matplotlib.pyplot as plt\n",
        "\n",
        "from sklearn.model_selection import train_test_split, GridSearchCV, cross_val_score\n",
        "from sklearn import metrics\n",
        "from sklearn.metrics import mean_squared_error, precision_score, confusion_matrix, accuracy_score\n",
        "from sklearn.dummy import DummyClassifier\n",
        "from sklearn.preprocessing import StandardScaler\n",
        "from sklearn.neighbors import KNeighborsClassifier\n",
        "from sklearn.linear_model import LogisticRegression\n",
        "from sklearn.ensemble import RandomForestClassifier, AdaBoostClassifier\n",
        "from imblearn.over_sampling import SMOTE\n",
        "from sklearn.tree import DecisionTreeClassifier\n",
        "from sklearn import set_config\n",
        "set_config(print_changed_only=False)\n",
        "from xgboost import XGBClassifier\n",
        "from sklearn.utils.testing import ignore_warnings\n",
        "from sklearn.exceptions import ConvergenceWarning\n",
        "from xgboost import plot_importance\n",
        "\n",
        "import warnings\n",
        "warnings.filterwarnings(\"ignore\", category=DeprecationWarning)\n",
        "warnings.filterwarnings(\"ignore\", category=FutureWarning)\n",
        "warnings.filterwarnings(\"ignore\", category=ConvergenceWarning)\n",
        "\n",
        "pd.set_option('display.max_columns', 300)\n",
        "%matplotlib inline\n",
        "\n",
        "plt.style.use('seaborn')"
      ],
      "execution_count": null,
      "outputs": [
        {
          "output_type": "stream",
          "text": [
            "/usr/local/lib/python3.7/dist-packages/sklearn/externals/six.py:31: FutureWarning: The module is deprecated in version 0.21 and will be removed in version 0.23 since we've dropped support for Python 2.7. Please rely on the official version of six (https://pypi.org/project/six/).\n",
            "  \"(https://pypi.org/project/six/).\", FutureWarning)\n",
            "/usr/local/lib/python3.7/dist-packages/sklearn/utils/deprecation.py:144: FutureWarning: The sklearn.neighbors.base module is  deprecated in version 0.22 and will be removed in version 0.24. The corresponding classes / functions should instead be imported from sklearn.neighbors. Anything that cannot be imported from sklearn.neighbors is now part of the private API.\n",
            "  warnings.warn(message, FutureWarning)\n",
            "/usr/local/lib/python3.7/dist-packages/sklearn/utils/deprecation.py:144: FutureWarning: The sklearn.utils.testing module is  deprecated in version 0.22 and will be removed in version 0.24. The corresponding classes / functions should instead be imported from sklearn.utils. Anything that cannot be imported from sklearn.utils is now part of the private API.\n",
            "  warnings.warn(message, FutureWarning)\n"
          ],
          "name": "stderr"
        }
      ]
    },
    {
      "cell_type": "code",
      "metadata": {
        "id": "vASUcsAUybgG"
      },
      "source": [
        "exp_df = pd.read_csv('experiment_features.csv',index_col=0)\n",
        "exp_df.head()\n",
        "\n",
        "vanilla_df = pd.read_csv('fetal_health.csv')\n",
        "X = vanilla_df.drop('fetal_health', axis =1)\n"
      ],
      "execution_count": null,
      "outputs": []
    },
    {
      "cell_type": "code",
      "metadata": {
        "id": "EI0lU2aPybgH"
      },
      "source": [
        "def evaluation(y_true, y_pred):\n",
        "    \n",
        "    print('Evaluation Metrics:')\n",
        "    print('Accuracy: ' + str(metrics.accuracy_score(y_test, y_pred)))\n",
        "    print('Recall: ' + str(metrics.recall_score(y_test, y_pred)))\n",
        "    print('F1 Score: ' + str(metrics.f1_score(y_test, y_pred)))\n",
        "    print('Precision: ' + str(metrics.precision_score(y_test, y_pred)))\n",
        "    \n",
        "    print('\\nConfusion Matrix:')\n",
        "    print(' TN,  FP, FN, TP')\n",
        "    print(confusion_matrix(y_true, y_pred).ravel())\n",
        "    \n",
        "\n",
        "def print_results(results):\n",
        "    print('Best Parameters: {}\\n'.format(results.best_params_))   "
      ],
      "execution_count": null,
      "outputs": []
    },
    {
      "cell_type": "code",
      "metadata": {
        "id": "KIvlredsybgI"
      },
      "source": [
        "X = exp_df.drop('fetal_health', axis =1)\n",
        "y = exp_df.fetal_health\n",
        "\n",
        "X_train, X_test, y_train, y_test = train_test_split(X, y, test_size= 0.25, random_state=1)"
      ],
      "execution_count": null,
      "outputs": []
    },
    {
      "cell_type": "code",
      "metadata": {
        "id": "V-iUpgYnybgJ",
        "colab": {
          "base_uri": "https://localhost:8080/"
        },
        "outputId": "84a6a226-2caa-4abe-dc11-7dfac1e0315a"
      },
      "source": [
        "scaler = StandardScaler()  \n",
        "scaler.fit(X_train)"
      ],
      "execution_count": null,
      "outputs": [
        {
          "output_type": "execute_result",
          "data": {
            "text/plain": [
              "StandardScaler(copy=True, with_mean=True, with_std=True)"
            ]
          },
          "metadata": {
            "tags": []
          },
          "execution_count": 5
        }
      ]
    },
    {
      "cell_type": "markdown",
      "metadata": {
        "id": "jsmc32ZhybgK"
      },
      "source": [
        "## Class imbalance"
      ]
    },
    {
      "cell_type": "code",
      "metadata": {
        "id": "l9KV4aO7ybgL"
      },
      "source": [
        "sm = SMOTE(random_state=25)\n",
        "smX_train, smy_train = sm.fit_sample(X_train, y_train)"
      ],
      "execution_count": null,
      "outputs": []
    },
    {
      "cell_type": "markdown",
      "metadata": {
        "id": "Mh2_LLxjybgM"
      },
      "source": [
        "## KNN "
      ]
    },
    {
      "cell_type": "code",
      "metadata": {
        "id": "3er8kV9GybgN",
        "colab": {
          "base_uri": "https://localhost:8080/"
        },
        "outputId": "e8e944c0-1708-46c0-cedc-dc4f641c7fe7"
      },
      "source": [
        "knn = KNeighborsClassifier(n_neighbors=1)\n",
        "knn.fit(X_train,y_train)"
      ],
      "execution_count": null,
      "outputs": [
        {
          "output_type": "execute_result",
          "data": {
            "text/plain": [
              "KNeighborsClassifier(algorithm='auto', leaf_size=30, metric='minkowski',\n",
              "                     metric_params=None, n_jobs=None, n_neighbors=1, p=2,\n",
              "                     weights='uniform')"
            ]
          },
          "metadata": {
            "tags": []
          },
          "execution_count": 7
        }
      ]
    },
    {
      "cell_type": "code",
      "metadata": {
        "id": "xWU2V5Z7ybgN"
      },
      "source": [
        "y_pred = knn.predict(X_test)"
      ],
      "execution_count": null,
      "outputs": []
    },
    {
      "cell_type": "code",
      "metadata": {
        "id": "ylz97ODhybgO",
        "colab": {
          "base_uri": "https://localhost:8080/"
        },
        "outputId": "8405ee86-de1c-4c97-a530-1b2385faedaf"
      },
      "source": [
        "evaluation(y_test, y_pred)"
      ],
      "execution_count": null,
      "outputs": [
        {
          "output_type": "stream",
          "text": [
            "Evaluation Metrics:\n",
            "Accuracy: 0.9172932330827067\n",
            "Recall: 0.9682151589242054\n",
            "F1 Score: 0.9473684210526316\n",
            "Precision: 0.927400468384075\n",
            "\n",
            "Confusion Matrix:\n",
            " TN,  FP, FN, TP\n",
            "[396  13  31  92]\n"
          ],
          "name": "stdout"
        }
      ]
    },
    {
      "cell_type": "code",
      "metadata": {
        "id": "nTSL9ieuybgO"
      },
      "source": [
        "smknn = KNeighborsClassifier(n_neighbors=1)\n",
        "smknn.fit(smX_train,smy_train)\n",
        "y_pred = smknn.predict(X_test)"
      ],
      "execution_count": null,
      "outputs": []
    },
    {
      "cell_type": "code",
      "metadata": {
        "id": "rLKst5ihybgP",
        "colab": {
          "base_uri": "https://localhost:8080/"
        },
        "outputId": "c3f2d569-0c67-4e06-e8a8-cf6c0fb3cfe3"
      },
      "source": [
        "evaluation(y_test, y_pred)"
      ],
      "execution_count": null,
      "outputs": [
        {
          "output_type": "stream",
          "text": [
            "Evaluation Metrics:\n",
            "Accuracy: 0.9172932330827067\n",
            "Recall: 0.9584352078239609\n",
            "F1 Score: 0.9468599033816426\n",
            "Precision: 0.9355608591885441\n",
            "\n",
            "Confusion Matrix:\n",
            " TN,  FP, FN, TP\n",
            "[392  17  27  96]\n"
          ],
          "name": "stdout"
        }
      ]
    },
    {
      "cell_type": "markdown",
      "metadata": {
        "id": "-e2BpcOQybgQ"
      },
      "source": [
        "## Logistic Regression Basline Model"
      ]
    },
    {
      "cell_type": "code",
      "metadata": {
        "id": "X1zyCwzoybgQ"
      },
      "source": [
        "lr = LogisticRegression()\n",
        "lr.fit(X_train,y_train)\n",
        "y_pred = lr.predict(X_test)"
      ],
      "execution_count": null,
      "outputs": []
    },
    {
      "cell_type": "code",
      "metadata": {
        "id": "ZMiEtBBMybgR",
        "colab": {
          "base_uri": "https://localhost:8080/"
        },
        "outputId": "69f3181d-0c09-43a3-8715-2cbb128ba6b3"
      },
      "source": [
        "evaluation(y_test, y_pred)"
      ],
      "execution_count": null,
      "outputs": [
        {
          "output_type": "stream",
          "text": [
            "Evaluation Metrics:\n",
            "Accuracy: 0.8796992481203008\n",
            "Recall: 0.9388753056234719\n",
            "F1 Score: 0.9230769230769231\n",
            "Precision: 0.9078014184397163\n",
            "\n",
            "Confusion Matrix:\n",
            " TN,  FP, FN, TP\n",
            "[384  25  39  84]\n"
          ],
          "name": "stdout"
        }
      ]
    },
    {
      "cell_type": "code",
      "metadata": {
        "id": "IBe0C6KXybgR"
      },
      "source": [
        "smlr = LogisticRegression(solver='liblinear')\n",
        "smlr.fit(smX_train,smy_train)\n",
        "y_predsm = smlr.predict(X_test)"
      ],
      "execution_count": null,
      "outputs": []
    },
    {
      "cell_type": "code",
      "metadata": {
        "id": "sZw4T59gybgS",
        "colab": {
          "base_uri": "https://localhost:8080/"
        },
        "outputId": "31382f18-8c2e-43c7-93d7-9d8482bfce27"
      },
      "source": [
        "evaluation(y_test, y_predsm)"
      ],
      "execution_count": null,
      "outputs": [
        {
          "output_type": "stream",
          "text": [
            "Evaluation Metrics:\n",
            "Accuracy: 0.8853383458646616\n",
            "Recall: 0.8801955990220048\n",
            "F1 Score: 0.9218950064020486\n",
            "Precision: 0.967741935483871\n",
            "\n",
            "Confusion Matrix:\n",
            " TN,  FP, FN, TP\n",
            "[360  49  12 111]\n"
          ],
          "name": "stdout"
        }
      ]
    },
    {
      "cell_type": "code",
      "metadata": {
        "id": "i8rIAQo2Z_rT"
      },
      "source": [
        "smX_train_1=pd.DataFrame(smX_train)\n"
      ],
      "execution_count": null,
      "outputs": []
    },
    {
      "cell_type": "code",
      "metadata": {
        "id": "gbR_vFxZybgl",
        "colab": {
          "base_uri": "https://localhost:8080/",
          "height": 1000
        },
        "outputId": "ee6d6b01-27f8-4efb-9a77-c82662e4fe9d"
      },
      "source": [
        "coef_table = pd.DataFrame(list(X_train.columns)).copy()\n",
        "coef_table.insert(len(coef_table.columns),\"Coefs\",lr.coef_.transpose())\n",
        "\n",
        "coef_table_2 = pd.DataFrame(list(smX_train_1.columns)).copy()\n",
        "coef_table_2.insert(len(coef_table_2.columns),'sm_Coefs',smlr.coef_.transpose())\n",
        "\n",
        "smote_vs_coef = pd.concat([coef_table,coef_table_2],axis=1)\n",
        "smote_vs_coef.columns = ['features','Coefs','del','sm_Coefs']\n",
        "del smote_vs_coef['del']\n",
        "smote_vs_coef"
      ],
      "execution_count": null,
      "outputs": [
        {
          "output_type": "execute_result",
          "data": {
            "text/html": [
              "<div>\n",
              "<style scoped>\n",
              "    .dataframe tbody tr th:only-of-type {\n",
              "        vertical-align: middle;\n",
              "    }\n",
              "\n",
              "    .dataframe tbody tr th {\n",
              "        vertical-align: top;\n",
              "    }\n",
              "\n",
              "    .dataframe thead th {\n",
              "        text-align: right;\n",
              "    }\n",
              "</style>\n",
              "<table border=\"1\" class=\"dataframe\">\n",
              "  <thead>\n",
              "    <tr style=\"text-align: right;\">\n",
              "      <th></th>\n",
              "      <th>features</th>\n",
              "      <th>Coefs</th>\n",
              "      <th>sm_Coefs</th>\n",
              "    </tr>\n",
              "  </thead>\n",
              "  <tbody>\n",
              "    <tr>\n",
              "      <th>0</th>\n",
              "      <td>baseline value</td>\n",
              "      <td>0.117187</td>\n",
              "      <td>0.132509</td>\n",
              "    </tr>\n",
              "    <tr>\n",
              "      <th>1</th>\n",
              "      <td>accelerations</td>\n",
              "      <td>-0.004096</td>\n",
              "      <td>-0.251781</td>\n",
              "    </tr>\n",
              "    <tr>\n",
              "      <th>2</th>\n",
              "      <td>fetal_movement</td>\n",
              "      <td>0.010856</td>\n",
              "      <td>0.351941</td>\n",
              "    </tr>\n",
              "    <tr>\n",
              "      <th>3</th>\n",
              "      <td>uterine_contractions</td>\n",
              "      <td>-0.005326</td>\n",
              "      <td>-0.059394</td>\n",
              "    </tr>\n",
              "    <tr>\n",
              "      <th>4</th>\n",
              "      <td>light_decelerations</td>\n",
              "      <td>-0.002222</td>\n",
              "      <td>-0.041308</td>\n",
              "    </tr>\n",
              "    <tr>\n",
              "      <th>5</th>\n",
              "      <td>prolongued_decelerations</td>\n",
              "      <td>0.000807</td>\n",
              "      <td>0.047737</td>\n",
              "    </tr>\n",
              "    <tr>\n",
              "      <th>6</th>\n",
              "      <td>abnormal_short_term_variability</td>\n",
              "      <td>0.070440</td>\n",
              "      <td>0.095303</td>\n",
              "    </tr>\n",
              "    <tr>\n",
              "      <th>7</th>\n",
              "      <td>mean_value_of_short_term_variability</td>\n",
              "      <td>-0.715728</td>\n",
              "      <td>-0.573296</td>\n",
              "    </tr>\n",
              "    <tr>\n",
              "      <th>8</th>\n",
              "      <td>percentage_of_time_with_abnormal_long_term_var...</td>\n",
              "      <td>0.037100</td>\n",
              "      <td>0.036719</td>\n",
              "    </tr>\n",
              "    <tr>\n",
              "      <th>9</th>\n",
              "      <td>mean_value_of_long_term_variability</td>\n",
              "      <td>0.032967</td>\n",
              "      <td>0.048317</td>\n",
              "    </tr>\n",
              "    <tr>\n",
              "      <th>10</th>\n",
              "      <td>histogram_width</td>\n",
              "      <td>-0.014598</td>\n",
              "      <td>-0.007383</td>\n",
              "    </tr>\n",
              "    <tr>\n",
              "      <th>11</th>\n",
              "      <td>histogram_min</td>\n",
              "      <td>0.006415</td>\n",
              "      <td>0.017312</td>\n",
              "    </tr>\n",
              "    <tr>\n",
              "      <th>12</th>\n",
              "      <td>histogram_max</td>\n",
              "      <td>-0.008183</td>\n",
              "      <td>0.009929</td>\n",
              "    </tr>\n",
              "    <tr>\n",
              "      <th>13</th>\n",
              "      <td>histogram_number_of_peaks</td>\n",
              "      <td>0.251894</td>\n",
              "      <td>0.191511</td>\n",
              "    </tr>\n",
              "    <tr>\n",
              "      <th>14</th>\n",
              "      <td>histogram_mode</td>\n",
              "      <td>-0.021006</td>\n",
              "      <td>0.004779</td>\n",
              "    </tr>\n",
              "    <tr>\n",
              "      <th>15</th>\n",
              "      <td>histogram_mean</td>\n",
              "      <td>0.031617</td>\n",
              "      <td>-0.064644</td>\n",
              "    </tr>\n",
              "    <tr>\n",
              "      <th>16</th>\n",
              "      <td>histogram_median</td>\n",
              "      <td>-0.157535</td>\n",
              "      <td>-0.139554</td>\n",
              "    </tr>\n",
              "    <tr>\n",
              "      <th>17</th>\n",
              "      <td>histogram_variance</td>\n",
              "      <td>0.032703</td>\n",
              "      <td>0.046521</td>\n",
              "    </tr>\n",
              "    <tr>\n",
              "      <th>18</th>\n",
              "      <td>uterine_cont_per_min</td>\n",
              "      <td>-0.319563</td>\n",
              "      <td>-3.563645</td>\n",
              "    </tr>\n",
              "    <tr>\n",
              "      <th>19</th>\n",
              "      <td>total_change</td>\n",
              "      <td>0.040804</td>\n",
              "      <td>0.072384</td>\n",
              "    </tr>\n",
              "    <tr>\n",
              "      <th>20</th>\n",
              "      <td>sqrt_total_change</td>\n",
              "      <td>-0.049499</td>\n",
              "      <td>-1.091438</td>\n",
              "    </tr>\n",
              "    <tr>\n",
              "      <th>21</th>\n",
              "      <td>hist_zeros_1.0</td>\n",
              "      <td>0.064701</td>\n",
              "      <td>0.245192</td>\n",
              "    </tr>\n",
              "    <tr>\n",
              "      <th>22</th>\n",
              "      <td>hist_zeros_2.0</td>\n",
              "      <td>0.020173</td>\n",
              "      <td>0.592789</td>\n",
              "    </tr>\n",
              "    <tr>\n",
              "      <th>23</th>\n",
              "      <td>hist_zeros_3.0</td>\n",
              "      <td>-0.002729</td>\n",
              "      <td>-0.680123</td>\n",
              "    </tr>\n",
              "    <tr>\n",
              "      <th>24</th>\n",
              "      <td>hist_zeros_4.0</td>\n",
              "      <td>0.017643</td>\n",
              "      <td>0.987754</td>\n",
              "    </tr>\n",
              "    <tr>\n",
              "      <th>25</th>\n",
              "      <td>hist_zeros_5.0</td>\n",
              "      <td>-0.002254</td>\n",
              "      <td>-0.617857</td>\n",
              "    </tr>\n",
              "    <tr>\n",
              "      <th>26</th>\n",
              "      <td>hist_zeros_7.0</td>\n",
              "      <td>0.000000</td>\n",
              "      <td>0.000000</td>\n",
              "    </tr>\n",
              "    <tr>\n",
              "      <th>27</th>\n",
              "      <td>hist_zeros_8.0</td>\n",
              "      <td>0.011034</td>\n",
              "      <td>0.515319</td>\n",
              "    </tr>\n",
              "    <tr>\n",
              "      <th>28</th>\n",
              "      <td>hist_zeros_10.0</td>\n",
              "      <td>-0.000778</td>\n",
              "      <td>-0.512326</td>\n",
              "    </tr>\n",
              "    <tr>\n",
              "      <th>29</th>\n",
              "      <td>hist_tendancy_0.0</td>\n",
              "      <td>-0.076624</td>\n",
              "      <td>1.045420</td>\n",
              "    </tr>\n",
              "    <tr>\n",
              "      <th>30</th>\n",
              "      <td>hist_tendancy_1.0</td>\n",
              "      <td>0.092021</td>\n",
              "      <td>1.121689</td>\n",
              "    </tr>\n",
              "    <tr>\n",
              "      <th>31</th>\n",
              "      <td>sev_decel_0.001</td>\n",
              "      <td>-0.003799</td>\n",
              "      <td>-0.263161</td>\n",
              "    </tr>\n",
              "    <tr>\n",
              "      <th>32</th>\n",
              "      <td>quant_acc_1</td>\n",
              "      <td>-0.236259</td>\n",
              "      <td>-3.251193</td>\n",
              "    </tr>\n",
              "    <tr>\n",
              "      <th>33</th>\n",
              "      <td>quant_light_dec_1</td>\n",
              "      <td>-0.344958</td>\n",
              "      <td>-1.399498</td>\n",
              "    </tr>\n",
              "    <tr>\n",
              "      <th>34</th>\n",
              "      <td>quant_hist_mean_1</td>\n",
              "      <td>-0.467977</td>\n",
              "      <td>-0.734134</td>\n",
              "    </tr>\n",
              "    <tr>\n",
              "      <th>35</th>\n",
              "      <td>quant_hist_mean_2</td>\n",
              "      <td>-0.255441</td>\n",
              "      <td>-0.232953</td>\n",
              "    </tr>\n",
              "    <tr>\n",
              "      <th>36</th>\n",
              "      <td>quant_hist_mean_3</td>\n",
              "      <td>-0.356670</td>\n",
              "      <td>-0.229146</td>\n",
              "    </tr>\n",
              "    <tr>\n",
              "      <th>37</th>\n",
              "      <td>quant_hist_mean_4</td>\n",
              "      <td>0.056272</td>\n",
              "      <td>1.490213</td>\n",
              "    </tr>\n",
              "    <tr>\n",
              "      <th>38</th>\n",
              "      <td>quant_hist_mean_5</td>\n",
              "      <td>0.429075</td>\n",
              "      <td>2.588159</td>\n",
              "    </tr>\n",
              "    <tr>\n",
              "      <th>39</th>\n",
              "      <td>quant_hist_mean_6</td>\n",
              "      <td>0.598825</td>\n",
              "      <td>3.820369</td>\n",
              "    </tr>\n",
              "  </tbody>\n",
              "</table>\n",
              "</div>"
            ],
            "text/plain": [
              "                                             features     Coefs  sm_Coefs\n",
              "0                                      baseline value  0.117187  0.132509\n",
              "1                                       accelerations -0.004096 -0.251781\n",
              "2                                      fetal_movement  0.010856  0.351941\n",
              "3                                uterine_contractions -0.005326 -0.059394\n",
              "4                                 light_decelerations -0.002222 -0.041308\n",
              "5                            prolongued_decelerations  0.000807  0.047737\n",
              "6                     abnormal_short_term_variability  0.070440  0.095303\n",
              "7                mean_value_of_short_term_variability -0.715728 -0.573296\n",
              "8   percentage_of_time_with_abnormal_long_term_var...  0.037100  0.036719\n",
              "9                 mean_value_of_long_term_variability  0.032967  0.048317\n",
              "10                                    histogram_width -0.014598 -0.007383\n",
              "11                                      histogram_min  0.006415  0.017312\n",
              "12                                      histogram_max -0.008183  0.009929\n",
              "13                          histogram_number_of_peaks  0.251894  0.191511\n",
              "14                                     histogram_mode -0.021006  0.004779\n",
              "15                                     histogram_mean  0.031617 -0.064644\n",
              "16                                   histogram_median -0.157535 -0.139554\n",
              "17                                 histogram_variance  0.032703  0.046521\n",
              "18                               uterine_cont_per_min -0.319563 -3.563645\n",
              "19                                       total_change  0.040804  0.072384\n",
              "20                                  sqrt_total_change -0.049499 -1.091438\n",
              "21                                     hist_zeros_1.0  0.064701  0.245192\n",
              "22                                     hist_zeros_2.0  0.020173  0.592789\n",
              "23                                     hist_zeros_3.0 -0.002729 -0.680123\n",
              "24                                     hist_zeros_4.0  0.017643  0.987754\n",
              "25                                     hist_zeros_5.0 -0.002254 -0.617857\n",
              "26                                     hist_zeros_7.0  0.000000  0.000000\n",
              "27                                     hist_zeros_8.0  0.011034  0.515319\n",
              "28                                    hist_zeros_10.0 -0.000778 -0.512326\n",
              "29                                  hist_tendancy_0.0 -0.076624  1.045420\n",
              "30                                  hist_tendancy_1.0  0.092021  1.121689\n",
              "31                                    sev_decel_0.001 -0.003799 -0.263161\n",
              "32                                        quant_acc_1 -0.236259 -3.251193\n",
              "33                                  quant_light_dec_1 -0.344958 -1.399498\n",
              "34                                  quant_hist_mean_1 -0.467977 -0.734134\n",
              "35                                  quant_hist_mean_2 -0.255441 -0.232953\n",
              "36                                  quant_hist_mean_3 -0.356670 -0.229146\n",
              "37                                  quant_hist_mean_4  0.056272  1.490213\n",
              "38                                  quant_hist_mean_5  0.429075  2.588159\n",
              "39                                  quant_hist_mean_6  0.598825  3.820369"
            ]
          },
          "metadata": {
            "tags": []
          },
          "execution_count": 17
        }
      ]
    },
    {
      "cell_type": "code",
      "metadata": {
        "id": "ts0J_9Igybgm"
      },
      "source": [
        "from sklearn.ensemble import BaggingClassifier\n",
        "bag_log = BaggingClassifier(\n",
        "    base_estimator=LogisticRegression(\n",
        "        random_state=1),n_estimators=200,\n",
        "    max_samples=.85,\n",
        "    max_features=10,oob_score=True,\n",
        "    n_jobs=-1,verbose=1)"
      ],
      "execution_count": null,
      "outputs": []
    },
    {
      "cell_type": "code",
      "metadata": {
        "id": "gAlHHfBtybgn",
        "colab": {
          "base_uri": "https://localhost:8080/"
        },
        "outputId": "880a9728-364e-4580-ddc2-4c8485214c03"
      },
      "source": [
        "bag_log.fit(smX_train, smy_train)\n",
        "y_pred = bag_log.predict(X_test)"
      ],
      "execution_count": null,
      "outputs": [
        {
          "output_type": "stream",
          "text": [
            "[Parallel(n_jobs=2)]: Using backend LokyBackend with 2 concurrent workers.\n",
            "[Parallel(n_jobs=2)]: Done   2 out of   2 | elapsed:    9.1s remaining:    0.0s\n",
            "[Parallel(n_jobs=2)]: Done   2 out of   2 | elapsed:    9.1s finished\n",
            "[Parallel(n_jobs=2)]: Using backend LokyBackend with 2 concurrent workers.\n",
            "[Parallel(n_jobs=2)]: Done   2 out of   2 | elapsed:    0.1s remaining:    0.0s\n",
            "[Parallel(n_jobs=2)]: Done   2 out of   2 | elapsed:    0.1s finished\n"
          ],
          "name": "stderr"
        }
      ]
    },
    {
      "cell_type": "code",
      "metadata": {
        "id": "Z3dm_OWqybgn",
        "colab": {
          "base_uri": "https://localhost:8080/"
        },
        "outputId": "3419dfc4-c19f-4d03-a509-d96cc100e947"
      },
      "source": [
        "evaluation(y_test,y_pred)"
      ],
      "execution_count": null,
      "outputs": [
        {
          "output_type": "stream",
          "text": [
            "Evaluation Metrics:\n",
            "Accuracy: 0.8665413533834586\n",
            "Recall: 0.8606356968215159\n",
            "F1 Score: 0.9083870967741935\n",
            "Precision: 0.9617486338797814\n",
            "\n",
            "Confusion Matrix:\n",
            " TN,  FP, FN, TP\n",
            "[352  57  14 109]\n"
          ],
          "name": "stdout"
        }
      ]
    },
    {
      "cell_type": "markdown",
      "metadata": {
        "id": "2u-vEHHWybgo"
      },
      "source": [
        "## Decision Tree"
      ]
    },
    {
      "cell_type": "code",
      "metadata": {
        "id": "JvbU5c40ybgq"
      },
      "source": [
        "tree = DecisionTreeClassifier()\n",
        "\n",
        "tree = tree.fit(X_train,y_train)\n",
        "\n",
        "y_pred = tree.predict(X_test)"
      ],
      "execution_count": null,
      "outputs": []
    },
    {
      "cell_type": "code",
      "metadata": {
        "id": "yYeNj4viybgq",
        "colab": {
          "base_uri": "https://localhost:8080/"
        },
        "outputId": "5033c9b3-7f49-445b-f074-38fe7af09894"
      },
      "source": [
        "evaluation(y_test, y_pred)"
      ],
      "execution_count": null,
      "outputs": [
        {
          "output_type": "stream",
          "text": [
            "Evaluation Metrics:\n",
            "Accuracy: 0.9191729323308271\n",
            "Recall: 0.9339853300733496\n",
            "F1 Score: 0.9467162329615861\n",
            "Precision: 0.9597989949748744\n",
            "\n",
            "Confusion Matrix:\n",
            " TN,  FP, FN, TP\n",
            "[382  27  16 107]\n"
          ],
          "name": "stdout"
        }
      ]
    },
    {
      "cell_type": "code",
      "metadata": {
        "id": "-3Dk7CKBybgs"
      },
      "source": [
        "smtree = DecisionTreeClassifier()\n",
        "smtree.fit(smX_train,smy_train)\n",
        "y_pred = smtree.predict(X_test)"
      ],
      "execution_count": null,
      "outputs": []
    },
    {
      "cell_type": "code",
      "metadata": {
        "id": "-Pve04qgybgs",
        "colab": {
          "base_uri": "https://localhost:8080/"
        },
        "outputId": "ee8f3a20-2568-4a31-dd0b-ee5ee4f7a4ee"
      },
      "source": [
        "evaluation(y_test, y_pred)"
      ],
      "execution_count": null,
      "outputs": [
        {
          "output_type": "stream",
          "text": [
            "Evaluation Metrics:\n",
            "Accuracy: 0.9379699248120301\n",
            "Recall: 0.9657701711491442\n",
            "F1 Score: 0.959902794653706\n",
            "Precision: 0.9541062801932367\n",
            "\n",
            "Confusion Matrix:\n",
            " TN,  FP, FN, TP\n",
            "[395  14  19 104]\n"
          ],
          "name": "stdout"
        }
      ]
    },
    {
      "cell_type": "code",
      "metadata": {
        "id": "0a7umbX2ybgt",
        "colab": {
          "base_uri": "https://localhost:8080/",
          "height": 1000
        },
        "outputId": "d9b74b54-fce9-468f-edbf-fb55aba689b0"
      },
      "source": [
        "coef_table = pd.DataFrame(list(X_train.columns)).copy()\n",
        "coef_table.insert(len(coef_table.columns),\"Coefs\",tree.feature_importances_.transpose())\n",
        "\n",
        "coef_table_2 = pd.DataFrame(list(smX_train_1.columns)).copy()\n",
        "coef_table_2.insert(len(coef_table_2.columns),'sm_Coefs',tree.feature_importances_.transpose())\n",
        "\n",
        "smote_vs_coef = pd.concat([coef_table,coef_table_2],axis=1)\n",
        "smote_vs_coef.columns = ['features','importance','del','sm_importance']\n",
        "del smote_vs_coef['del']\n",
        "smote_vs_coef"
      ],
      "execution_count": null,
      "outputs": [
        {
          "output_type": "execute_result",
          "data": {
            "text/html": [
              "<div>\n",
              "<style scoped>\n",
              "    .dataframe tbody tr th:only-of-type {\n",
              "        vertical-align: middle;\n",
              "    }\n",
              "\n",
              "    .dataframe tbody tr th {\n",
              "        vertical-align: top;\n",
              "    }\n",
              "\n",
              "    .dataframe thead th {\n",
              "        text-align: right;\n",
              "    }\n",
              "</style>\n",
              "<table border=\"1\" class=\"dataframe\">\n",
              "  <thead>\n",
              "    <tr style=\"text-align: right;\">\n",
              "      <th></th>\n",
              "      <th>features</th>\n",
              "      <th>importance</th>\n",
              "      <th>sm_importance</th>\n",
              "    </tr>\n",
              "  </thead>\n",
              "  <tbody>\n",
              "    <tr>\n",
              "      <th>0</th>\n",
              "      <td>baseline value</td>\n",
              "      <td>0.042665</td>\n",
              "      <td>0.042665</td>\n",
              "    </tr>\n",
              "    <tr>\n",
              "      <th>1</th>\n",
              "      <td>accelerations</td>\n",
              "      <td>0.019693</td>\n",
              "      <td>0.019693</td>\n",
              "    </tr>\n",
              "    <tr>\n",
              "      <th>2</th>\n",
              "      <td>fetal_movement</td>\n",
              "      <td>0.016659</td>\n",
              "      <td>0.016659</td>\n",
              "    </tr>\n",
              "    <tr>\n",
              "      <th>3</th>\n",
              "      <td>uterine_contractions</td>\n",
              "      <td>0.003420</td>\n",
              "      <td>0.003420</td>\n",
              "    </tr>\n",
              "    <tr>\n",
              "      <th>4</th>\n",
              "      <td>light_decelerations</td>\n",
              "      <td>0.002762</td>\n",
              "      <td>0.002762</td>\n",
              "    </tr>\n",
              "    <tr>\n",
              "      <th>5</th>\n",
              "      <td>prolongued_decelerations</td>\n",
              "      <td>0.028585</td>\n",
              "      <td>0.028585</td>\n",
              "    </tr>\n",
              "    <tr>\n",
              "      <th>6</th>\n",
              "      <td>abnormal_short_term_variability</td>\n",
              "      <td>0.335788</td>\n",
              "      <td>0.335788</td>\n",
              "    </tr>\n",
              "    <tr>\n",
              "      <th>7</th>\n",
              "      <td>mean_value_of_short_term_variability</td>\n",
              "      <td>0.117288</td>\n",
              "      <td>0.117288</td>\n",
              "    </tr>\n",
              "    <tr>\n",
              "      <th>8</th>\n",
              "      <td>percentage_of_time_with_abnormal_long_term_var...</td>\n",
              "      <td>0.041862</td>\n",
              "      <td>0.041862</td>\n",
              "    </tr>\n",
              "    <tr>\n",
              "      <th>9</th>\n",
              "      <td>mean_value_of_long_term_variability</td>\n",
              "      <td>0.019097</td>\n",
              "      <td>0.019097</td>\n",
              "    </tr>\n",
              "    <tr>\n",
              "      <th>10</th>\n",
              "      <td>histogram_width</td>\n",
              "      <td>0.017186</td>\n",
              "      <td>0.017186</td>\n",
              "    </tr>\n",
              "    <tr>\n",
              "      <th>11</th>\n",
              "      <td>histogram_min</td>\n",
              "      <td>0.032666</td>\n",
              "      <td>0.032666</td>\n",
              "    </tr>\n",
              "    <tr>\n",
              "      <th>12</th>\n",
              "      <td>histogram_max</td>\n",
              "      <td>0.027871</td>\n",
              "      <td>0.027871</td>\n",
              "    </tr>\n",
              "    <tr>\n",
              "      <th>13</th>\n",
              "      <td>histogram_number_of_peaks</td>\n",
              "      <td>0.017596</td>\n",
              "      <td>0.017596</td>\n",
              "    </tr>\n",
              "    <tr>\n",
              "      <th>14</th>\n",
              "      <td>histogram_mode</td>\n",
              "      <td>0.018547</td>\n",
              "      <td>0.018547</td>\n",
              "    </tr>\n",
              "    <tr>\n",
              "      <th>15</th>\n",
              "      <td>histogram_mean</td>\n",
              "      <td>0.170278</td>\n",
              "      <td>0.170278</td>\n",
              "    </tr>\n",
              "    <tr>\n",
              "      <th>16</th>\n",
              "      <td>histogram_median</td>\n",
              "      <td>0.009489</td>\n",
              "      <td>0.009489</td>\n",
              "    </tr>\n",
              "    <tr>\n",
              "      <th>17</th>\n",
              "      <td>histogram_variance</td>\n",
              "      <td>0.006461</td>\n",
              "      <td>0.006461</td>\n",
              "    </tr>\n",
              "    <tr>\n",
              "      <th>18</th>\n",
              "      <td>uterine_cont_per_min</td>\n",
              "      <td>0.012703</td>\n",
              "      <td>0.012703</td>\n",
              "    </tr>\n",
              "    <tr>\n",
              "      <th>19</th>\n",
              "      <td>total_change</td>\n",
              "      <td>0.043515</td>\n",
              "      <td>0.043515</td>\n",
              "    </tr>\n",
              "    <tr>\n",
              "      <th>20</th>\n",
              "      <td>sqrt_total_change</td>\n",
              "      <td>0.010415</td>\n",
              "      <td>0.010415</td>\n",
              "    </tr>\n",
              "    <tr>\n",
              "      <th>21</th>\n",
              "      <td>hist_zeros_1.0</td>\n",
              "      <td>0.000000</td>\n",
              "      <td>0.000000</td>\n",
              "    </tr>\n",
              "    <tr>\n",
              "      <th>22</th>\n",
              "      <td>hist_zeros_2.0</td>\n",
              "      <td>0.001841</td>\n",
              "      <td>0.001841</td>\n",
              "    </tr>\n",
              "    <tr>\n",
              "      <th>23</th>\n",
              "      <td>hist_zeros_3.0</td>\n",
              "      <td>0.000000</td>\n",
              "      <td>0.000000</td>\n",
              "    </tr>\n",
              "    <tr>\n",
              "      <th>24</th>\n",
              "      <td>hist_zeros_4.0</td>\n",
              "      <td>0.003614</td>\n",
              "      <td>0.003614</td>\n",
              "    </tr>\n",
              "    <tr>\n",
              "      <th>25</th>\n",
              "      <td>hist_zeros_5.0</td>\n",
              "      <td>0.000000</td>\n",
              "      <td>0.000000</td>\n",
              "    </tr>\n",
              "    <tr>\n",
              "      <th>26</th>\n",
              "      <td>hist_zeros_7.0</td>\n",
              "      <td>0.000000</td>\n",
              "      <td>0.000000</td>\n",
              "    </tr>\n",
              "    <tr>\n",
              "      <th>27</th>\n",
              "      <td>hist_zeros_8.0</td>\n",
              "      <td>0.000000</td>\n",
              "      <td>0.000000</td>\n",
              "    </tr>\n",
              "    <tr>\n",
              "      <th>28</th>\n",
              "      <td>hist_zeros_10.0</td>\n",
              "      <td>0.000000</td>\n",
              "      <td>0.000000</td>\n",
              "    </tr>\n",
              "    <tr>\n",
              "      <th>29</th>\n",
              "      <td>hist_tendancy_0.0</td>\n",
              "      <td>0.000000</td>\n",
              "      <td>0.000000</td>\n",
              "    </tr>\n",
              "    <tr>\n",
              "      <th>30</th>\n",
              "      <td>hist_tendancy_1.0</td>\n",
              "      <td>0.000000</td>\n",
              "      <td>0.000000</td>\n",
              "    </tr>\n",
              "    <tr>\n",
              "      <th>31</th>\n",
              "      <td>sev_decel_0.001</td>\n",
              "      <td>0.000000</td>\n",
              "      <td>0.000000</td>\n",
              "    </tr>\n",
              "    <tr>\n",
              "      <th>32</th>\n",
              "      <td>quant_acc_1</td>\n",
              "      <td>0.000000</td>\n",
              "      <td>0.000000</td>\n",
              "    </tr>\n",
              "    <tr>\n",
              "      <th>33</th>\n",
              "      <td>quant_light_dec_1</td>\n",
              "      <td>0.000000</td>\n",
              "      <td>0.000000</td>\n",
              "    </tr>\n",
              "    <tr>\n",
              "      <th>34</th>\n",
              "      <td>quant_hist_mean_1</td>\n",
              "      <td>0.000000</td>\n",
              "      <td>0.000000</td>\n",
              "    </tr>\n",
              "    <tr>\n",
              "      <th>35</th>\n",
              "      <td>quant_hist_mean_2</td>\n",
              "      <td>0.000000</td>\n",
              "      <td>0.000000</td>\n",
              "    </tr>\n",
              "    <tr>\n",
              "      <th>36</th>\n",
              "      <td>quant_hist_mean_3</td>\n",
              "      <td>0.000000</td>\n",
              "      <td>0.000000</td>\n",
              "    </tr>\n",
              "    <tr>\n",
              "      <th>37</th>\n",
              "      <td>quant_hist_mean_4</td>\n",
              "      <td>0.000000</td>\n",
              "      <td>0.000000</td>\n",
              "    </tr>\n",
              "    <tr>\n",
              "      <th>38</th>\n",
              "      <td>quant_hist_mean_5</td>\n",
              "      <td>0.000000</td>\n",
              "      <td>0.000000</td>\n",
              "    </tr>\n",
              "    <tr>\n",
              "      <th>39</th>\n",
              "      <td>quant_hist_mean_6</td>\n",
              "      <td>0.000000</td>\n",
              "      <td>0.000000</td>\n",
              "    </tr>\n",
              "  </tbody>\n",
              "</table>\n",
              "</div>"
            ],
            "text/plain": [
              "                                             features  importance  \\\n",
              "0                                      baseline value    0.042665   \n",
              "1                                       accelerations    0.019693   \n",
              "2                                      fetal_movement    0.016659   \n",
              "3                                uterine_contractions    0.003420   \n",
              "4                                 light_decelerations    0.002762   \n",
              "5                            prolongued_decelerations    0.028585   \n",
              "6                     abnormal_short_term_variability    0.335788   \n",
              "7                mean_value_of_short_term_variability    0.117288   \n",
              "8   percentage_of_time_with_abnormal_long_term_var...    0.041862   \n",
              "9                 mean_value_of_long_term_variability    0.019097   \n",
              "10                                    histogram_width    0.017186   \n",
              "11                                      histogram_min    0.032666   \n",
              "12                                      histogram_max    0.027871   \n",
              "13                          histogram_number_of_peaks    0.017596   \n",
              "14                                     histogram_mode    0.018547   \n",
              "15                                     histogram_mean    0.170278   \n",
              "16                                   histogram_median    0.009489   \n",
              "17                                 histogram_variance    0.006461   \n",
              "18                               uterine_cont_per_min    0.012703   \n",
              "19                                       total_change    0.043515   \n",
              "20                                  sqrt_total_change    0.010415   \n",
              "21                                     hist_zeros_1.0    0.000000   \n",
              "22                                     hist_zeros_2.0    0.001841   \n",
              "23                                     hist_zeros_3.0    0.000000   \n",
              "24                                     hist_zeros_4.0    0.003614   \n",
              "25                                     hist_zeros_5.0    0.000000   \n",
              "26                                     hist_zeros_7.0    0.000000   \n",
              "27                                     hist_zeros_8.0    0.000000   \n",
              "28                                    hist_zeros_10.0    0.000000   \n",
              "29                                  hist_tendancy_0.0    0.000000   \n",
              "30                                  hist_tendancy_1.0    0.000000   \n",
              "31                                    sev_decel_0.001    0.000000   \n",
              "32                                        quant_acc_1    0.000000   \n",
              "33                                  quant_light_dec_1    0.000000   \n",
              "34                                  quant_hist_mean_1    0.000000   \n",
              "35                                  quant_hist_mean_2    0.000000   \n",
              "36                                  quant_hist_mean_3    0.000000   \n",
              "37                                  quant_hist_mean_4    0.000000   \n",
              "38                                  quant_hist_mean_5    0.000000   \n",
              "39                                  quant_hist_mean_6    0.000000   \n",
              "\n",
              "    sm_importance  \n",
              "0        0.042665  \n",
              "1        0.019693  \n",
              "2        0.016659  \n",
              "3        0.003420  \n",
              "4        0.002762  \n",
              "5        0.028585  \n",
              "6        0.335788  \n",
              "7        0.117288  \n",
              "8        0.041862  \n",
              "9        0.019097  \n",
              "10       0.017186  \n",
              "11       0.032666  \n",
              "12       0.027871  \n",
              "13       0.017596  \n",
              "14       0.018547  \n",
              "15       0.170278  \n",
              "16       0.009489  \n",
              "17       0.006461  \n",
              "18       0.012703  \n",
              "19       0.043515  \n",
              "20       0.010415  \n",
              "21       0.000000  \n",
              "22       0.001841  \n",
              "23       0.000000  \n",
              "24       0.003614  \n",
              "25       0.000000  \n",
              "26       0.000000  \n",
              "27       0.000000  \n",
              "28       0.000000  \n",
              "29       0.000000  \n",
              "30       0.000000  \n",
              "31       0.000000  \n",
              "32       0.000000  \n",
              "33       0.000000  \n",
              "34       0.000000  \n",
              "35       0.000000  \n",
              "36       0.000000  \n",
              "37       0.000000  \n",
              "38       0.000000  \n",
              "39       0.000000  "
            ]
          },
          "metadata": {
            "tags": []
          },
          "execution_count": 25
        }
      ]
    },
    {
      "cell_type": "markdown",
      "metadata": {
        "id": "oaAhv8ywybgu"
      },
      "source": [
        "## Random Forest"
      ]
    },
    {
      "cell_type": "code",
      "metadata": {
        "id": "qI-ZLg7uybgv",
        "colab": {
          "base_uri": "https://localhost:8080/"
        },
        "outputId": "be6f828a-c34a-490f-de6e-626a6910d508"
      },
      "source": [
        "rfc = RandomForestClassifier(random_state =1, n_estimators= 50, max_depth = 3, n_jobs =-1,verbose=1)\n",
        "rfc.fit(X_train,y_train)\n",
        "y_pred = rfc.predict(X_test)"
      ],
      "execution_count": null,
      "outputs": [
        {
          "output_type": "stream",
          "text": [
            "[Parallel(n_jobs=-1)]: Using backend ThreadingBackend with 2 concurrent workers.\n",
            "[Parallel(n_jobs=-1)]: Done  46 tasks      | elapsed:    0.1s\n",
            "[Parallel(n_jobs=-1)]: Done  50 out of  50 | elapsed:    0.1s finished\n",
            "[Parallel(n_jobs=2)]: Using backend ThreadingBackend with 2 concurrent workers.\n",
            "[Parallel(n_jobs=2)]: Done  46 tasks      | elapsed:    0.0s\n",
            "[Parallel(n_jobs=2)]: Done  50 out of  50 | elapsed:    0.0s finished\n"
          ],
          "name": "stderr"
        }
      ]
    },
    {
      "cell_type": "code",
      "metadata": {
        "scrolled": true,
        "id": "VerL6aL5ybgw",
        "colab": {
          "base_uri": "https://localhost:8080/"
        },
        "outputId": "cf297f57-cf42-4af7-e2a1-c0b7f8069eee"
      },
      "source": [
        "evaluation(y_test, y_pred)"
      ],
      "execution_count": null,
      "outputs": [
        {
          "output_type": "stream",
          "text": [
            "Evaluation Metrics:\n",
            "Accuracy: 0.900375939849624\n",
            "Recall: 0.9828850855745721\n",
            "F1 Score: 0.9381563593932323\n",
            "Precision: 0.8973214285714286\n",
            "\n",
            "Confusion Matrix:\n",
            " TN,  FP, FN, TP\n",
            "[402   7  46  77]\n"
          ],
          "name": "stdout"
        }
      ]
    },
    {
      "cell_type": "code",
      "metadata": {
        "id": "WZGRw3hWybgx",
        "colab": {
          "base_uri": "https://localhost:8080/"
        },
        "outputId": "6f3558d4-753d-4a7c-d38d-cde76e405bf6"
      },
      "source": [
        "smrfc = RandomForestClassifier(random_state =1, n_estimators= 50, max_depth = 3, n_jobs =-1,verbose=1)\n",
        "smrfc.fit(smX_train,smy_train)\n",
        "y_pred = smrfc.predict(X_test)"
      ],
      "execution_count": null,
      "outputs": [
        {
          "output_type": "stream",
          "text": [
            "[Parallel(n_jobs=-1)]: Using backend ThreadingBackend with 2 concurrent workers.\n",
            "[Parallel(n_jobs=-1)]: Done  46 tasks      | elapsed:    0.1s\n",
            "[Parallel(n_jobs=-1)]: Done  50 out of  50 | elapsed:    0.1s finished\n",
            "[Parallel(n_jobs=2)]: Using backend ThreadingBackend with 2 concurrent workers.\n",
            "[Parallel(n_jobs=2)]: Done  46 tasks      | elapsed:    0.0s\n",
            "[Parallel(n_jobs=2)]: Done  50 out of  50 | elapsed:    0.0s finished\n"
          ],
          "name": "stderr"
        }
      ]
    },
    {
      "cell_type": "code",
      "metadata": {
        "id": "jvfvSoQDybgy",
        "colab": {
          "base_uri": "https://localhost:8080/"
        },
        "outputId": "149d6ac3-b162-4811-e75f-0c3ed21c4934"
      },
      "source": [
        "print(confusion_matrix(y_test, y_pred))\n",
        "evaluation(y_test, y_pred)"
      ],
      "execution_count": null,
      "outputs": [
        {
          "output_type": "stream",
          "text": [
            "[[381  28]\n",
            " [ 16 107]]\n",
            "Evaluation Metrics:\n",
            "Accuracy: 0.9172932330827067\n",
            "Recall: 0.9315403422982885\n",
            "F1 Score: 0.9454094292803971\n",
            "Precision: 0.9596977329974811\n",
            "\n",
            "Confusion Matrix:\n",
            " TN,  FP, FN, TP\n",
            "[381  28  16 107]\n"
          ],
          "name": "stdout"
        }
      ]
    },
    {
      "cell_type": "code",
      "metadata": {
        "id": "KtQuIKu9ybgz",
        "colab": {
          "base_uri": "https://localhost:8080/",
          "height": 1000
        },
        "outputId": "ee073151-565c-4233-cd2a-c05e5347a39a"
      },
      "source": [
        "coef_table = pd.DataFrame(list(X_train.columns)).copy()\n",
        "coef_table.insert(len(coef_table.columns),\"Coefs\",rfc.feature_importances_.transpose())\n",
        "\n",
        "coef_table_2 = pd.DataFrame(list(smX_train_1.columns)).copy()\n",
        "coef_table_2.insert(len(coef_table_2.columns),'sm_Coefs',smrfc.feature_importances_.transpose())\n",
        "\n",
        "smote_vs_coef = pd.concat([coef_table,coef_table_2],axis=1)\n",
        "smote_vs_coef.columns = ['features','importance_baseline','del','sm_importance_baseline']\n",
        "del smote_vs_coef['del']\n",
        "smote_vs_coef"
      ],
      "execution_count": null,
      "outputs": [
        {
          "output_type": "execute_result",
          "data": {
            "text/html": [
              "<div>\n",
              "<style scoped>\n",
              "    .dataframe tbody tr th:only-of-type {\n",
              "        vertical-align: middle;\n",
              "    }\n",
              "\n",
              "    .dataframe tbody tr th {\n",
              "        vertical-align: top;\n",
              "    }\n",
              "\n",
              "    .dataframe thead th {\n",
              "        text-align: right;\n",
              "    }\n",
              "</style>\n",
              "<table border=\"1\" class=\"dataframe\">\n",
              "  <thead>\n",
              "    <tr style=\"text-align: right;\">\n",
              "      <th></th>\n",
              "      <th>features</th>\n",
              "      <th>importance_baseline</th>\n",
              "      <th>sm_importance_baseline</th>\n",
              "    </tr>\n",
              "  </thead>\n",
              "  <tbody>\n",
              "    <tr>\n",
              "      <th>0</th>\n",
              "      <td>baseline value</td>\n",
              "      <td>9.926765e-03</td>\n",
              "      <td>0.016188</td>\n",
              "    </tr>\n",
              "    <tr>\n",
              "      <th>1</th>\n",
              "      <td>accelerations</td>\n",
              "      <td>1.035325e-01</td>\n",
              "      <td>0.196017</td>\n",
              "    </tr>\n",
              "    <tr>\n",
              "      <th>2</th>\n",
              "      <td>fetal_movement</td>\n",
              "      <td>4.708818e-03</td>\n",
              "      <td>0.002176</td>\n",
              "    </tr>\n",
              "    <tr>\n",
              "      <th>3</th>\n",
              "      <td>uterine_contractions</td>\n",
              "      <td>1.058922e-02</td>\n",
              "      <td>0.018089</td>\n",
              "    </tr>\n",
              "    <tr>\n",
              "      <th>4</th>\n",
              "      <td>light_decelerations</td>\n",
              "      <td>6.170803e-04</td>\n",
              "      <td>0.001520</td>\n",
              "    </tr>\n",
              "    <tr>\n",
              "      <th>5</th>\n",
              "      <td>prolongued_decelerations</td>\n",
              "      <td>8.764041e-02</td>\n",
              "      <td>0.084955</td>\n",
              "    </tr>\n",
              "    <tr>\n",
              "      <th>6</th>\n",
              "      <td>abnormal_short_term_variability</td>\n",
              "      <td>1.576849e-01</td>\n",
              "      <td>0.181858</td>\n",
              "    </tr>\n",
              "    <tr>\n",
              "      <th>7</th>\n",
              "      <td>mean_value_of_short_term_variability</td>\n",
              "      <td>1.492258e-01</td>\n",
              "      <td>0.106684</td>\n",
              "    </tr>\n",
              "    <tr>\n",
              "      <th>8</th>\n",
              "      <td>percentage_of_time_with_abnormal_long_term_var...</td>\n",
              "      <td>8.983866e-02</td>\n",
              "      <td>0.084788</td>\n",
              "    </tr>\n",
              "    <tr>\n",
              "      <th>9</th>\n",
              "      <td>mean_value_of_long_term_variability</td>\n",
              "      <td>1.227784e-02</td>\n",
              "      <td>0.010061</td>\n",
              "    </tr>\n",
              "    <tr>\n",
              "      <th>10</th>\n",
              "      <td>histogram_width</td>\n",
              "      <td>2.413741e-02</td>\n",
              "      <td>0.012982</td>\n",
              "    </tr>\n",
              "    <tr>\n",
              "      <th>11</th>\n",
              "      <td>histogram_min</td>\n",
              "      <td>3.454206e-02</td>\n",
              "      <td>0.041812</td>\n",
              "    </tr>\n",
              "    <tr>\n",
              "      <th>12</th>\n",
              "      <td>histogram_max</td>\n",
              "      <td>3.475578e-03</td>\n",
              "      <td>0.007130</td>\n",
              "    </tr>\n",
              "    <tr>\n",
              "      <th>13</th>\n",
              "      <td>histogram_number_of_peaks</td>\n",
              "      <td>1.292067e-03</td>\n",
              "      <td>0.000236</td>\n",
              "    </tr>\n",
              "    <tr>\n",
              "      <th>14</th>\n",
              "      <td>histogram_mode</td>\n",
              "      <td>2.993087e-02</td>\n",
              "      <td>0.018789</td>\n",
              "    </tr>\n",
              "    <tr>\n",
              "      <th>15</th>\n",
              "      <td>histogram_mean</td>\n",
              "      <td>1.002393e-01</td>\n",
              "      <td>0.069639</td>\n",
              "    </tr>\n",
              "    <tr>\n",
              "      <th>16</th>\n",
              "      <td>histogram_median</td>\n",
              "      <td>5.230935e-02</td>\n",
              "      <td>0.015301</td>\n",
              "    </tr>\n",
              "    <tr>\n",
              "      <th>17</th>\n",
              "      <td>histogram_variance</td>\n",
              "      <td>4.127107e-02</td>\n",
              "      <td>0.034043</td>\n",
              "    </tr>\n",
              "    <tr>\n",
              "      <th>18</th>\n",
              "      <td>uterine_cont_per_min</td>\n",
              "      <td>3.162570e-02</td>\n",
              "      <td>0.039799</td>\n",
              "    </tr>\n",
              "    <tr>\n",
              "      <th>19</th>\n",
              "      <td>total_change</td>\n",
              "      <td>2.676057e-02</td>\n",
              "      <td>0.014003</td>\n",
              "    </tr>\n",
              "    <tr>\n",
              "      <th>20</th>\n",
              "      <td>sqrt_total_change</td>\n",
              "      <td>1.688455e-02</td>\n",
              "      <td>0.008660</td>\n",
              "    </tr>\n",
              "    <tr>\n",
              "      <th>21</th>\n",
              "      <td>hist_zeros_1.0</td>\n",
              "      <td>4.751671e-04</td>\n",
              "      <td>0.000014</td>\n",
              "    </tr>\n",
              "    <tr>\n",
              "      <th>22</th>\n",
              "      <td>hist_zeros_2.0</td>\n",
              "      <td>0.000000e+00</td>\n",
              "      <td>0.000000</td>\n",
              "    </tr>\n",
              "    <tr>\n",
              "      <th>23</th>\n",
              "      <td>hist_zeros_3.0</td>\n",
              "      <td>0.000000e+00</td>\n",
              "      <td>0.000770</td>\n",
              "    </tr>\n",
              "    <tr>\n",
              "      <th>24</th>\n",
              "      <td>hist_zeros_4.0</td>\n",
              "      <td>0.000000e+00</td>\n",
              "      <td>0.000000</td>\n",
              "    </tr>\n",
              "    <tr>\n",
              "      <th>25</th>\n",
              "      <td>hist_zeros_5.0</td>\n",
              "      <td>0.000000e+00</td>\n",
              "      <td>0.000000</td>\n",
              "    </tr>\n",
              "    <tr>\n",
              "      <th>26</th>\n",
              "      <td>hist_zeros_7.0</td>\n",
              "      <td>0.000000e+00</td>\n",
              "      <td>0.000000</td>\n",
              "    </tr>\n",
              "    <tr>\n",
              "      <th>27</th>\n",
              "      <td>hist_zeros_8.0</td>\n",
              "      <td>0.000000e+00</td>\n",
              "      <td>0.000000</td>\n",
              "    </tr>\n",
              "    <tr>\n",
              "      <th>28</th>\n",
              "      <td>hist_zeros_10.0</td>\n",
              "      <td>0.000000e+00</td>\n",
              "      <td>0.000000</td>\n",
              "    </tr>\n",
              "    <tr>\n",
              "      <th>29</th>\n",
              "      <td>hist_tendancy_0.0</td>\n",
              "      <td>0.000000e+00</td>\n",
              "      <td>0.000000</td>\n",
              "    </tr>\n",
              "    <tr>\n",
              "      <th>30</th>\n",
              "      <td>hist_tendancy_1.0</td>\n",
              "      <td>4.129194e-04</td>\n",
              "      <td>0.000000</td>\n",
              "    </tr>\n",
              "    <tr>\n",
              "      <th>31</th>\n",
              "      <td>sev_decel_0.001</td>\n",
              "      <td>0.000000e+00</td>\n",
              "      <td>0.000000</td>\n",
              "    </tr>\n",
              "    <tr>\n",
              "      <th>32</th>\n",
              "      <td>quant_acc_1</td>\n",
              "      <td>5.073501e-03</td>\n",
              "      <td>0.027740</td>\n",
              "    </tr>\n",
              "    <tr>\n",
              "      <th>33</th>\n",
              "      <td>quant_light_dec_1</td>\n",
              "      <td>2.024508e-03</td>\n",
              "      <td>0.000827</td>\n",
              "    </tr>\n",
              "    <tr>\n",
              "      <th>34</th>\n",
              "      <td>quant_hist_mean_1</td>\n",
              "      <td>6.361066e-07</td>\n",
              "      <td>0.000361</td>\n",
              "    </tr>\n",
              "    <tr>\n",
              "      <th>35</th>\n",
              "      <td>quant_hist_mean_2</td>\n",
              "      <td>0.000000e+00</td>\n",
              "      <td>0.000000</td>\n",
              "    </tr>\n",
              "    <tr>\n",
              "      <th>36</th>\n",
              "      <td>quant_hist_mean_3</td>\n",
              "      <td>2.716066e-04</td>\n",
              "      <td>0.002952</td>\n",
              "    </tr>\n",
              "    <tr>\n",
              "      <th>37</th>\n",
              "      <td>quant_hist_mean_4</td>\n",
              "      <td>1.834956e-04</td>\n",
              "      <td>0.000000</td>\n",
              "    </tr>\n",
              "    <tr>\n",
              "      <th>38</th>\n",
              "      <td>quant_hist_mean_5</td>\n",
              "      <td>9.625095e-04</td>\n",
              "      <td>0.001353</td>\n",
              "    </tr>\n",
              "    <tr>\n",
              "      <th>39</th>\n",
              "      <td>quant_hist_mean_6</td>\n",
              "      <td>2.085230e-03</td>\n",
              "      <td>0.001253</td>\n",
              "    </tr>\n",
              "  </tbody>\n",
              "</table>\n",
              "</div>"
            ],
            "text/plain": [
              "                                             features  importance_baseline  \\\n",
              "0                                      baseline value         9.926765e-03   \n",
              "1                                       accelerations         1.035325e-01   \n",
              "2                                      fetal_movement         4.708818e-03   \n",
              "3                                uterine_contractions         1.058922e-02   \n",
              "4                                 light_decelerations         6.170803e-04   \n",
              "5                            prolongued_decelerations         8.764041e-02   \n",
              "6                     abnormal_short_term_variability         1.576849e-01   \n",
              "7                mean_value_of_short_term_variability         1.492258e-01   \n",
              "8   percentage_of_time_with_abnormal_long_term_var...         8.983866e-02   \n",
              "9                 mean_value_of_long_term_variability         1.227784e-02   \n",
              "10                                    histogram_width         2.413741e-02   \n",
              "11                                      histogram_min         3.454206e-02   \n",
              "12                                      histogram_max         3.475578e-03   \n",
              "13                          histogram_number_of_peaks         1.292067e-03   \n",
              "14                                     histogram_mode         2.993087e-02   \n",
              "15                                     histogram_mean         1.002393e-01   \n",
              "16                                   histogram_median         5.230935e-02   \n",
              "17                                 histogram_variance         4.127107e-02   \n",
              "18                               uterine_cont_per_min         3.162570e-02   \n",
              "19                                       total_change         2.676057e-02   \n",
              "20                                  sqrt_total_change         1.688455e-02   \n",
              "21                                     hist_zeros_1.0         4.751671e-04   \n",
              "22                                     hist_zeros_2.0         0.000000e+00   \n",
              "23                                     hist_zeros_3.0         0.000000e+00   \n",
              "24                                     hist_zeros_4.0         0.000000e+00   \n",
              "25                                     hist_zeros_5.0         0.000000e+00   \n",
              "26                                     hist_zeros_7.0         0.000000e+00   \n",
              "27                                     hist_zeros_8.0         0.000000e+00   \n",
              "28                                    hist_zeros_10.0         0.000000e+00   \n",
              "29                                  hist_tendancy_0.0         0.000000e+00   \n",
              "30                                  hist_tendancy_1.0         4.129194e-04   \n",
              "31                                    sev_decel_0.001         0.000000e+00   \n",
              "32                                        quant_acc_1         5.073501e-03   \n",
              "33                                  quant_light_dec_1         2.024508e-03   \n",
              "34                                  quant_hist_mean_1         6.361066e-07   \n",
              "35                                  quant_hist_mean_2         0.000000e+00   \n",
              "36                                  quant_hist_mean_3         2.716066e-04   \n",
              "37                                  quant_hist_mean_4         1.834956e-04   \n",
              "38                                  quant_hist_mean_5         9.625095e-04   \n",
              "39                                  quant_hist_mean_6         2.085230e-03   \n",
              "\n",
              "    sm_importance_baseline  \n",
              "0                 0.016188  \n",
              "1                 0.196017  \n",
              "2                 0.002176  \n",
              "3                 0.018089  \n",
              "4                 0.001520  \n",
              "5                 0.084955  \n",
              "6                 0.181858  \n",
              "7                 0.106684  \n",
              "8                 0.084788  \n",
              "9                 0.010061  \n",
              "10                0.012982  \n",
              "11                0.041812  \n",
              "12                0.007130  \n",
              "13                0.000236  \n",
              "14                0.018789  \n",
              "15                0.069639  \n",
              "16                0.015301  \n",
              "17                0.034043  \n",
              "18                0.039799  \n",
              "19                0.014003  \n",
              "20                0.008660  \n",
              "21                0.000014  \n",
              "22                0.000000  \n",
              "23                0.000770  \n",
              "24                0.000000  \n",
              "25                0.000000  \n",
              "26                0.000000  \n",
              "27                0.000000  \n",
              "28                0.000000  \n",
              "29                0.000000  \n",
              "30                0.000000  \n",
              "31                0.000000  \n",
              "32                0.027740  \n",
              "33                0.000827  \n",
              "34                0.000361  \n",
              "35                0.000000  \n",
              "36                0.002952  \n",
              "37                0.000000  \n",
              "38                0.001353  \n",
              "39                0.001253  "
            ]
          },
          "metadata": {
            "tags": []
          },
          "execution_count": 30
        }
      ]
    },
    {
      "cell_type": "markdown",
      "metadata": {
        "id": "lhEOXYZ5ybg0"
      },
      "source": [
        "## Grid Search Random Forest\n"
      ]
    },
    {
      "cell_type": "code",
      "metadata": {
        "id": "7EJQCtQYybg0"
      },
      "source": [
        "parameters = {\n",
        "    'n_estimators': [25,50,100,300,500],\n",
        "    'criterion' : ['gini','entropy'],\n",
        "    'max_depth' : [8,9,10,11,12],\n",
        "    'max_features' : ['sqrt'],\n",
        "    'min_weight_fraction_leaf' : [0,0.1,0.3,0.5],\n",
        "    \n",
        "    \n",
        "    \n",
        "}"
      ],
      "execution_count": null,
      "outputs": []
    },
    {
      "cell_type": "code",
      "metadata": {
        "id": "EKTZa4B_ybg1"
      },
      "source": [
        "grid_tree=GridSearchCV(RandomForestClassifier(), parameters, cv=15, scoring='f1', verbose=1, n_jobs=-1)"
      ],
      "execution_count": null,
      "outputs": []
    },
    {
      "cell_type": "code",
      "metadata": {
        "id": "0yc0R1bXybg1",
        "colab": {
          "base_uri": "https://localhost:8080/"
        },
        "outputId": "dacbf710-9d48-4006-d4eb-35cb4721f844"
      },
      "source": [
        "grid_tree.fit(smX_train, smy_train)"
      ],
      "execution_count": null,
      "outputs": [
        {
          "output_type": "stream",
          "text": [
            "Fitting 15 folds for each of 200 candidates, totalling 3000 fits\n"
          ],
          "name": "stdout"
        },
        {
          "output_type": "stream",
          "text": [
            "[Parallel(n_jobs=-1)]: Using backend LokyBackend with 2 concurrent workers.\n",
            "[Parallel(n_jobs=-1)]: Done  46 tasks      | elapsed:   10.5s\n",
            "[Parallel(n_jobs=-1)]: Done 196 tasks      | elapsed:  1.4min\n",
            "[Parallel(n_jobs=-1)]: Done 446 tasks      | elapsed:  3.4min\n",
            "[Parallel(n_jobs=-1)]: Done 796 tasks      | elapsed:  5.8min\n",
            "[Parallel(n_jobs=-1)]: Done 1246 tasks      | elapsed:  8.9min\n",
            "[Parallel(n_jobs=-1)]: Done 1796 tasks      | elapsed: 13.4min\n",
            "[Parallel(n_jobs=-1)]: Done 2446 tasks      | elapsed: 18.6min\n",
            "[Parallel(n_jobs=-1)]: Done 3000 out of 3000 | elapsed: 23.4min finished\n"
          ],
          "name": "stderr"
        },
        {
          "output_type": "execute_result",
          "data": {
            "text/plain": [
              "GridSearchCV(cv=15, error_score=nan,\n",
              "             estimator=RandomForestClassifier(bootstrap=True, ccp_alpha=0.0,\n",
              "                                              class_weight=None,\n",
              "                                              criterion='gini', max_depth=None,\n",
              "                                              max_features='auto',\n",
              "                                              max_leaf_nodes=None,\n",
              "                                              max_samples=None,\n",
              "                                              min_impurity_decrease=0.0,\n",
              "                                              min_impurity_split=None,\n",
              "                                              min_samples_leaf=1,\n",
              "                                              min_samples_split=2,\n",
              "                                              min_weight_fraction_leaf=0.0,\n",
              "                                              n_estimators=100, n_jobs=None,\n",
              "                                              oob_score=False,\n",
              "                                              random_state=None, verbose=0,\n",
              "                                              warm_start=False),\n",
              "             iid='deprecated', n_jobs=-1,\n",
              "             param_grid={'criterion': ['gini', 'entropy'],\n",
              "                         'max_depth': [8, 9, 10, 11, 12],\n",
              "                         'max_features': ['sqrt'],\n",
              "                         'min_weight_fraction_leaf': [0, 0.1, 0.3, 0.5],\n",
              "                         'n_estimators': [25, 50, 100, 300, 500]},\n",
              "             pre_dispatch='2*n_jobs', refit=True, return_train_score=False,\n",
              "             scoring='f1', verbose=1)"
            ]
          },
          "metadata": {
            "tags": []
          },
          "execution_count": 33
        }
      ]
    },
    {
      "cell_type": "code",
      "metadata": {
        "id": "T_yCPzpHybg2",
        "colab": {
          "base_uri": "https://localhost:8080/"
        },
        "outputId": "e9932202-9412-4f84-f116-c3240737d239"
      },
      "source": [
        "print(grid_tree.best_score_)\n",
        "print(grid_tree.best_params_)\n",
        "print(grid_tree.best_estimator_)"
      ],
      "execution_count": null,
      "outputs": [
        {
          "output_type": "stream",
          "text": [
            "0.9761008979552065\n",
            "{'criterion': 'entropy', 'max_depth': 10, 'max_features': 'sqrt', 'min_weight_fraction_leaf': 0, 'n_estimators': 50}\n",
            "RandomForestClassifier(bootstrap=True, ccp_alpha=0.0, class_weight=None,\n",
            "                       criterion='entropy', max_depth=10, max_features='sqrt',\n",
            "                       max_leaf_nodes=None, max_samples=None,\n",
            "                       min_impurity_decrease=0.0, min_impurity_split=None,\n",
            "                       min_samples_leaf=1, min_samples_split=2,\n",
            "                       min_weight_fraction_leaf=0, n_estimators=50, n_jobs=None,\n",
            "                       oob_score=False, random_state=None, verbose=0,\n",
            "                       warm_start=False)\n"
          ],
          "name": "stdout"
        }
      ]
    },
    {
      "cell_type": "code",
      "metadata": {
        "id": "JWGJYi_oybg2",
        "colab": {
          "base_uri": "https://localhost:8080/"
        },
        "outputId": "50955c3e-85e7-48b6-d419-cc20281adf53"
      },
      "source": [
        "y_pred = grid_tree.best_estimator_.predict(X_test)\n",
        "evaluation(y_test,y_pred)"
      ],
      "execution_count": null,
      "outputs": [
        {
          "output_type": "stream",
          "text": [
            "Evaluation Metrics:\n",
            "Accuracy: 0.9492481203007519\n",
            "Recall: 0.9706601466992665\n",
            "F1 Score: 0.9671132764920828\n",
            "Precision: 0.9635922330097088\n",
            "\n",
            "Confusion Matrix:\n",
            " TN,  FP, FN, TP\n",
            "[397  12  15 108]\n"
          ],
          "name": "stdout"
        }
      ]
    },
    {
      "cell_type": "code",
      "metadata": {
        "id": "_rgsTWWPybg4",
        "colab": {
          "base_uri": "https://localhost:8080/",
          "height": 1000
        },
        "outputId": "dbc79956-5f09-4609-a572-843c23a50260"
      },
      "source": [
        "coef_table = pd.DataFrame(list(X_train.columns)).copy()\n",
        "coef_table.insert(len(coef_table.columns),\"Coefs\",grid_tree.best_estimator_.feature_importances_.transpose())\n",
        "coef_table"
      ],
      "execution_count": null,
      "outputs": [
        {
          "output_type": "execute_result",
          "data": {
            "text/html": [
              "<div>\n",
              "<style scoped>\n",
              "    .dataframe tbody tr th:only-of-type {\n",
              "        vertical-align: middle;\n",
              "    }\n",
              "\n",
              "    .dataframe tbody tr th {\n",
              "        vertical-align: top;\n",
              "    }\n",
              "\n",
              "    .dataframe thead th {\n",
              "        text-align: right;\n",
              "    }\n",
              "</style>\n",
              "<table border=\"1\" class=\"dataframe\">\n",
              "  <thead>\n",
              "    <tr style=\"text-align: right;\">\n",
              "      <th></th>\n",
              "      <th>0</th>\n",
              "      <th>Coefs</th>\n",
              "    </tr>\n",
              "  </thead>\n",
              "  <tbody>\n",
              "    <tr>\n",
              "      <th>0</th>\n",
              "      <td>baseline value</td>\n",
              "      <td>0.022117</td>\n",
              "    </tr>\n",
              "    <tr>\n",
              "      <th>1</th>\n",
              "      <td>accelerations</td>\n",
              "      <td>0.130221</td>\n",
              "    </tr>\n",
              "    <tr>\n",
              "      <th>2</th>\n",
              "      <td>fetal_movement</td>\n",
              "      <td>0.018725</td>\n",
              "    </tr>\n",
              "    <tr>\n",
              "      <th>3</th>\n",
              "      <td>uterine_contractions</td>\n",
              "      <td>0.031353</td>\n",
              "    </tr>\n",
              "    <tr>\n",
              "      <th>4</th>\n",
              "      <td>light_decelerations</td>\n",
              "      <td>0.007721</td>\n",
              "    </tr>\n",
              "    <tr>\n",
              "      <th>5</th>\n",
              "      <td>prolongued_decelerations</td>\n",
              "      <td>0.047052</td>\n",
              "    </tr>\n",
              "    <tr>\n",
              "      <th>6</th>\n",
              "      <td>abnormal_short_term_variability</td>\n",
              "      <td>0.161897</td>\n",
              "    </tr>\n",
              "    <tr>\n",
              "      <th>7</th>\n",
              "      <td>mean_value_of_short_term_variability</td>\n",
              "      <td>0.079979</td>\n",
              "    </tr>\n",
              "    <tr>\n",
              "      <th>8</th>\n",
              "      <td>percentage_of_time_with_abnormal_long_term_var...</td>\n",
              "      <td>0.062785</td>\n",
              "    </tr>\n",
              "    <tr>\n",
              "      <th>9</th>\n",
              "      <td>mean_value_of_long_term_variability</td>\n",
              "      <td>0.019524</td>\n",
              "    </tr>\n",
              "    <tr>\n",
              "      <th>10</th>\n",
              "      <td>histogram_width</td>\n",
              "      <td>0.030255</td>\n",
              "    </tr>\n",
              "    <tr>\n",
              "      <th>11</th>\n",
              "      <td>histogram_min</td>\n",
              "      <td>0.028155</td>\n",
              "    </tr>\n",
              "    <tr>\n",
              "      <th>12</th>\n",
              "      <td>histogram_max</td>\n",
              "      <td>0.021133</td>\n",
              "    </tr>\n",
              "    <tr>\n",
              "      <th>13</th>\n",
              "      <td>histogram_number_of_peaks</td>\n",
              "      <td>0.013304</td>\n",
              "    </tr>\n",
              "    <tr>\n",
              "      <th>14</th>\n",
              "      <td>histogram_mode</td>\n",
              "      <td>0.047342</td>\n",
              "    </tr>\n",
              "    <tr>\n",
              "      <th>15</th>\n",
              "      <td>histogram_mean</td>\n",
              "      <td>0.079870</td>\n",
              "    </tr>\n",
              "    <tr>\n",
              "      <th>16</th>\n",
              "      <td>histogram_median</td>\n",
              "      <td>0.045331</td>\n",
              "    </tr>\n",
              "    <tr>\n",
              "      <th>17</th>\n",
              "      <td>histogram_variance</td>\n",
              "      <td>0.036441</td>\n",
              "    </tr>\n",
              "    <tr>\n",
              "      <th>18</th>\n",
              "      <td>uterine_cont_per_min</td>\n",
              "      <td>0.023497</td>\n",
              "    </tr>\n",
              "    <tr>\n",
              "      <th>19</th>\n",
              "      <td>total_change</td>\n",
              "      <td>0.015876</td>\n",
              "    </tr>\n",
              "    <tr>\n",
              "      <th>20</th>\n",
              "      <td>sqrt_total_change</td>\n",
              "      <td>0.020249</td>\n",
              "    </tr>\n",
              "    <tr>\n",
              "      <th>21</th>\n",
              "      <td>hist_zeros_1.0</td>\n",
              "      <td>0.002363</td>\n",
              "    </tr>\n",
              "    <tr>\n",
              "      <th>22</th>\n",
              "      <td>hist_zeros_2.0</td>\n",
              "      <td>0.000730</td>\n",
              "    </tr>\n",
              "    <tr>\n",
              "      <th>23</th>\n",
              "      <td>hist_zeros_3.0</td>\n",
              "      <td>0.000763</td>\n",
              "    </tr>\n",
              "    <tr>\n",
              "      <th>24</th>\n",
              "      <td>hist_zeros_4.0</td>\n",
              "      <td>0.000276</td>\n",
              "    </tr>\n",
              "    <tr>\n",
              "      <th>25</th>\n",
              "      <td>hist_zeros_5.0</td>\n",
              "      <td>0.000000</td>\n",
              "    </tr>\n",
              "    <tr>\n",
              "      <th>26</th>\n",
              "      <td>hist_zeros_7.0</td>\n",
              "      <td>0.000000</td>\n",
              "    </tr>\n",
              "    <tr>\n",
              "      <th>27</th>\n",
              "      <td>hist_zeros_8.0</td>\n",
              "      <td>0.000094</td>\n",
              "    </tr>\n",
              "    <tr>\n",
              "      <th>28</th>\n",
              "      <td>hist_zeros_10.0</td>\n",
              "      <td>0.000052</td>\n",
              "    </tr>\n",
              "    <tr>\n",
              "      <th>29</th>\n",
              "      <td>hist_tendancy_0.0</td>\n",
              "      <td>0.005054</td>\n",
              "    </tr>\n",
              "    <tr>\n",
              "      <th>30</th>\n",
              "      <td>hist_tendancy_1.0</td>\n",
              "      <td>0.003728</td>\n",
              "    </tr>\n",
              "    <tr>\n",
              "      <th>31</th>\n",
              "      <td>sev_decel_0.001</td>\n",
              "      <td>0.000405</td>\n",
              "    </tr>\n",
              "    <tr>\n",
              "      <th>32</th>\n",
              "      <td>quant_acc_1</td>\n",
              "      <td>0.020786</td>\n",
              "    </tr>\n",
              "    <tr>\n",
              "      <th>33</th>\n",
              "      <td>quant_light_dec_1</td>\n",
              "      <td>0.005478</td>\n",
              "    </tr>\n",
              "    <tr>\n",
              "      <th>34</th>\n",
              "      <td>quant_hist_mean_1</td>\n",
              "      <td>0.001771</td>\n",
              "    </tr>\n",
              "    <tr>\n",
              "      <th>35</th>\n",
              "      <td>quant_hist_mean_2</td>\n",
              "      <td>0.001715</td>\n",
              "    </tr>\n",
              "    <tr>\n",
              "      <th>36</th>\n",
              "      <td>quant_hist_mean_3</td>\n",
              "      <td>0.003749</td>\n",
              "    </tr>\n",
              "    <tr>\n",
              "      <th>37</th>\n",
              "      <td>quant_hist_mean_4</td>\n",
              "      <td>0.001967</td>\n",
              "    </tr>\n",
              "    <tr>\n",
              "      <th>38</th>\n",
              "      <td>quant_hist_mean_5</td>\n",
              "      <td>0.002698</td>\n",
              "    </tr>\n",
              "    <tr>\n",
              "      <th>39</th>\n",
              "      <td>quant_hist_mean_6</td>\n",
              "      <td>0.005547</td>\n",
              "    </tr>\n",
              "  </tbody>\n",
              "</table>\n",
              "</div>"
            ],
            "text/plain": [
              "                                                    0     Coefs\n",
              "0                                      baseline value  0.022117\n",
              "1                                       accelerations  0.130221\n",
              "2                                      fetal_movement  0.018725\n",
              "3                                uterine_contractions  0.031353\n",
              "4                                 light_decelerations  0.007721\n",
              "5                            prolongued_decelerations  0.047052\n",
              "6                     abnormal_short_term_variability  0.161897\n",
              "7                mean_value_of_short_term_variability  0.079979\n",
              "8   percentage_of_time_with_abnormal_long_term_var...  0.062785\n",
              "9                 mean_value_of_long_term_variability  0.019524\n",
              "10                                    histogram_width  0.030255\n",
              "11                                      histogram_min  0.028155\n",
              "12                                      histogram_max  0.021133\n",
              "13                          histogram_number_of_peaks  0.013304\n",
              "14                                     histogram_mode  0.047342\n",
              "15                                     histogram_mean  0.079870\n",
              "16                                   histogram_median  0.045331\n",
              "17                                 histogram_variance  0.036441\n",
              "18                               uterine_cont_per_min  0.023497\n",
              "19                                       total_change  0.015876\n",
              "20                                  sqrt_total_change  0.020249\n",
              "21                                     hist_zeros_1.0  0.002363\n",
              "22                                     hist_zeros_2.0  0.000730\n",
              "23                                     hist_zeros_3.0  0.000763\n",
              "24                                     hist_zeros_4.0  0.000276\n",
              "25                                     hist_zeros_5.0  0.000000\n",
              "26                                     hist_zeros_7.0  0.000000\n",
              "27                                     hist_zeros_8.0  0.000094\n",
              "28                                    hist_zeros_10.0  0.000052\n",
              "29                                  hist_tendancy_0.0  0.005054\n",
              "30                                  hist_tendancy_1.0  0.003728\n",
              "31                                    sev_decel_0.001  0.000405\n",
              "32                                        quant_acc_1  0.020786\n",
              "33                                  quant_light_dec_1  0.005478\n",
              "34                                  quant_hist_mean_1  0.001771\n",
              "35                                  quant_hist_mean_2  0.001715\n",
              "36                                  quant_hist_mean_3  0.003749\n",
              "37                                  quant_hist_mean_4  0.001967\n",
              "38                                  quant_hist_mean_5  0.002698\n",
              "39                                  quant_hist_mean_6  0.005547"
            ]
          },
          "metadata": {
            "tags": []
          },
          "execution_count": 36
        }
      ]
    },
    {
      "cell_type": "code",
      "metadata": {
        "id": "cbg4I18Jybg4"
      },
      "source": [
        "coef_table.columns = ['features','grid_search_importance']\n",
        "del coef_table['features']\n",
        "best_features_rfc = pd.concat([smote_vs_coef,coef_table],axis=1)"
      ],
      "execution_count": null,
      "outputs": []
    },
    {
      "cell_type": "code",
      "metadata": {
        "id": "FQoGvVEFybg5",
        "colab": {
          "base_uri": "https://localhost:8080/",
          "height": 1000
        },
        "outputId": "752d75eb-1fb2-4914-b50b-b9dd236b4e3f"
      },
      "source": [
        "best_features_rfc"
      ],
      "execution_count": null,
      "outputs": [
        {
          "output_type": "execute_result",
          "data": {
            "text/html": [
              "<div>\n",
              "<style scoped>\n",
              "    .dataframe tbody tr th:only-of-type {\n",
              "        vertical-align: middle;\n",
              "    }\n",
              "\n",
              "    .dataframe tbody tr th {\n",
              "        vertical-align: top;\n",
              "    }\n",
              "\n",
              "    .dataframe thead th {\n",
              "        text-align: right;\n",
              "    }\n",
              "</style>\n",
              "<table border=\"1\" class=\"dataframe\">\n",
              "  <thead>\n",
              "    <tr style=\"text-align: right;\">\n",
              "      <th></th>\n",
              "      <th>features</th>\n",
              "      <th>importance_baseline</th>\n",
              "      <th>sm_importance_baseline</th>\n",
              "      <th>grid_search_importance</th>\n",
              "    </tr>\n",
              "  </thead>\n",
              "  <tbody>\n",
              "    <tr>\n",
              "      <th>0</th>\n",
              "      <td>baseline value</td>\n",
              "      <td>9.926765e-03</td>\n",
              "      <td>0.016188</td>\n",
              "      <td>0.022117</td>\n",
              "    </tr>\n",
              "    <tr>\n",
              "      <th>1</th>\n",
              "      <td>accelerations</td>\n",
              "      <td>1.035325e-01</td>\n",
              "      <td>0.196017</td>\n",
              "      <td>0.130221</td>\n",
              "    </tr>\n",
              "    <tr>\n",
              "      <th>2</th>\n",
              "      <td>fetal_movement</td>\n",
              "      <td>4.708818e-03</td>\n",
              "      <td>0.002176</td>\n",
              "      <td>0.018725</td>\n",
              "    </tr>\n",
              "    <tr>\n",
              "      <th>3</th>\n",
              "      <td>uterine_contractions</td>\n",
              "      <td>1.058922e-02</td>\n",
              "      <td>0.018089</td>\n",
              "      <td>0.031353</td>\n",
              "    </tr>\n",
              "    <tr>\n",
              "      <th>4</th>\n",
              "      <td>light_decelerations</td>\n",
              "      <td>6.170803e-04</td>\n",
              "      <td>0.001520</td>\n",
              "      <td>0.007721</td>\n",
              "    </tr>\n",
              "    <tr>\n",
              "      <th>5</th>\n",
              "      <td>prolongued_decelerations</td>\n",
              "      <td>8.764041e-02</td>\n",
              "      <td>0.084955</td>\n",
              "      <td>0.047052</td>\n",
              "    </tr>\n",
              "    <tr>\n",
              "      <th>6</th>\n",
              "      <td>abnormal_short_term_variability</td>\n",
              "      <td>1.576849e-01</td>\n",
              "      <td>0.181858</td>\n",
              "      <td>0.161897</td>\n",
              "    </tr>\n",
              "    <tr>\n",
              "      <th>7</th>\n",
              "      <td>mean_value_of_short_term_variability</td>\n",
              "      <td>1.492258e-01</td>\n",
              "      <td>0.106684</td>\n",
              "      <td>0.079979</td>\n",
              "    </tr>\n",
              "    <tr>\n",
              "      <th>8</th>\n",
              "      <td>percentage_of_time_with_abnormal_long_term_var...</td>\n",
              "      <td>8.983866e-02</td>\n",
              "      <td>0.084788</td>\n",
              "      <td>0.062785</td>\n",
              "    </tr>\n",
              "    <tr>\n",
              "      <th>9</th>\n",
              "      <td>mean_value_of_long_term_variability</td>\n",
              "      <td>1.227784e-02</td>\n",
              "      <td>0.010061</td>\n",
              "      <td>0.019524</td>\n",
              "    </tr>\n",
              "    <tr>\n",
              "      <th>10</th>\n",
              "      <td>histogram_width</td>\n",
              "      <td>2.413741e-02</td>\n",
              "      <td>0.012982</td>\n",
              "      <td>0.030255</td>\n",
              "    </tr>\n",
              "    <tr>\n",
              "      <th>11</th>\n",
              "      <td>histogram_min</td>\n",
              "      <td>3.454206e-02</td>\n",
              "      <td>0.041812</td>\n",
              "      <td>0.028155</td>\n",
              "    </tr>\n",
              "    <tr>\n",
              "      <th>12</th>\n",
              "      <td>histogram_max</td>\n",
              "      <td>3.475578e-03</td>\n",
              "      <td>0.007130</td>\n",
              "      <td>0.021133</td>\n",
              "    </tr>\n",
              "    <tr>\n",
              "      <th>13</th>\n",
              "      <td>histogram_number_of_peaks</td>\n",
              "      <td>1.292067e-03</td>\n",
              "      <td>0.000236</td>\n",
              "      <td>0.013304</td>\n",
              "    </tr>\n",
              "    <tr>\n",
              "      <th>14</th>\n",
              "      <td>histogram_mode</td>\n",
              "      <td>2.993087e-02</td>\n",
              "      <td>0.018789</td>\n",
              "      <td>0.047342</td>\n",
              "    </tr>\n",
              "    <tr>\n",
              "      <th>15</th>\n",
              "      <td>histogram_mean</td>\n",
              "      <td>1.002393e-01</td>\n",
              "      <td>0.069639</td>\n",
              "      <td>0.079870</td>\n",
              "    </tr>\n",
              "    <tr>\n",
              "      <th>16</th>\n",
              "      <td>histogram_median</td>\n",
              "      <td>5.230935e-02</td>\n",
              "      <td>0.015301</td>\n",
              "      <td>0.045331</td>\n",
              "    </tr>\n",
              "    <tr>\n",
              "      <th>17</th>\n",
              "      <td>histogram_variance</td>\n",
              "      <td>4.127107e-02</td>\n",
              "      <td>0.034043</td>\n",
              "      <td>0.036441</td>\n",
              "    </tr>\n",
              "    <tr>\n",
              "      <th>18</th>\n",
              "      <td>uterine_cont_per_min</td>\n",
              "      <td>3.162570e-02</td>\n",
              "      <td>0.039799</td>\n",
              "      <td>0.023497</td>\n",
              "    </tr>\n",
              "    <tr>\n",
              "      <th>19</th>\n",
              "      <td>total_change</td>\n",
              "      <td>2.676057e-02</td>\n",
              "      <td>0.014003</td>\n",
              "      <td>0.015876</td>\n",
              "    </tr>\n",
              "    <tr>\n",
              "      <th>20</th>\n",
              "      <td>sqrt_total_change</td>\n",
              "      <td>1.688455e-02</td>\n",
              "      <td>0.008660</td>\n",
              "      <td>0.020249</td>\n",
              "    </tr>\n",
              "    <tr>\n",
              "      <th>21</th>\n",
              "      <td>hist_zeros_1.0</td>\n",
              "      <td>4.751671e-04</td>\n",
              "      <td>0.000014</td>\n",
              "      <td>0.002363</td>\n",
              "    </tr>\n",
              "    <tr>\n",
              "      <th>22</th>\n",
              "      <td>hist_zeros_2.0</td>\n",
              "      <td>0.000000e+00</td>\n",
              "      <td>0.000000</td>\n",
              "      <td>0.000730</td>\n",
              "    </tr>\n",
              "    <tr>\n",
              "      <th>23</th>\n",
              "      <td>hist_zeros_3.0</td>\n",
              "      <td>0.000000e+00</td>\n",
              "      <td>0.000770</td>\n",
              "      <td>0.000763</td>\n",
              "    </tr>\n",
              "    <tr>\n",
              "      <th>24</th>\n",
              "      <td>hist_zeros_4.0</td>\n",
              "      <td>0.000000e+00</td>\n",
              "      <td>0.000000</td>\n",
              "      <td>0.000276</td>\n",
              "    </tr>\n",
              "    <tr>\n",
              "      <th>25</th>\n",
              "      <td>hist_zeros_5.0</td>\n",
              "      <td>0.000000e+00</td>\n",
              "      <td>0.000000</td>\n",
              "      <td>0.000000</td>\n",
              "    </tr>\n",
              "    <tr>\n",
              "      <th>26</th>\n",
              "      <td>hist_zeros_7.0</td>\n",
              "      <td>0.000000e+00</td>\n",
              "      <td>0.000000</td>\n",
              "      <td>0.000000</td>\n",
              "    </tr>\n",
              "    <tr>\n",
              "      <th>27</th>\n",
              "      <td>hist_zeros_8.0</td>\n",
              "      <td>0.000000e+00</td>\n",
              "      <td>0.000000</td>\n",
              "      <td>0.000094</td>\n",
              "    </tr>\n",
              "    <tr>\n",
              "      <th>28</th>\n",
              "      <td>hist_zeros_10.0</td>\n",
              "      <td>0.000000e+00</td>\n",
              "      <td>0.000000</td>\n",
              "      <td>0.000052</td>\n",
              "    </tr>\n",
              "    <tr>\n",
              "      <th>29</th>\n",
              "      <td>hist_tendancy_0.0</td>\n",
              "      <td>0.000000e+00</td>\n",
              "      <td>0.000000</td>\n",
              "      <td>0.005054</td>\n",
              "    </tr>\n",
              "    <tr>\n",
              "      <th>30</th>\n",
              "      <td>hist_tendancy_1.0</td>\n",
              "      <td>4.129194e-04</td>\n",
              "      <td>0.000000</td>\n",
              "      <td>0.003728</td>\n",
              "    </tr>\n",
              "    <tr>\n",
              "      <th>31</th>\n",
              "      <td>sev_decel_0.001</td>\n",
              "      <td>0.000000e+00</td>\n",
              "      <td>0.000000</td>\n",
              "      <td>0.000405</td>\n",
              "    </tr>\n",
              "    <tr>\n",
              "      <th>32</th>\n",
              "      <td>quant_acc_1</td>\n",
              "      <td>5.073501e-03</td>\n",
              "      <td>0.027740</td>\n",
              "      <td>0.020786</td>\n",
              "    </tr>\n",
              "    <tr>\n",
              "      <th>33</th>\n",
              "      <td>quant_light_dec_1</td>\n",
              "      <td>2.024508e-03</td>\n",
              "      <td>0.000827</td>\n",
              "      <td>0.005478</td>\n",
              "    </tr>\n",
              "    <tr>\n",
              "      <th>34</th>\n",
              "      <td>quant_hist_mean_1</td>\n",
              "      <td>6.361066e-07</td>\n",
              "      <td>0.000361</td>\n",
              "      <td>0.001771</td>\n",
              "    </tr>\n",
              "    <tr>\n",
              "      <th>35</th>\n",
              "      <td>quant_hist_mean_2</td>\n",
              "      <td>0.000000e+00</td>\n",
              "      <td>0.000000</td>\n",
              "      <td>0.001715</td>\n",
              "    </tr>\n",
              "    <tr>\n",
              "      <th>36</th>\n",
              "      <td>quant_hist_mean_3</td>\n",
              "      <td>2.716066e-04</td>\n",
              "      <td>0.002952</td>\n",
              "      <td>0.003749</td>\n",
              "    </tr>\n",
              "    <tr>\n",
              "      <th>37</th>\n",
              "      <td>quant_hist_mean_4</td>\n",
              "      <td>1.834956e-04</td>\n",
              "      <td>0.000000</td>\n",
              "      <td>0.001967</td>\n",
              "    </tr>\n",
              "    <tr>\n",
              "      <th>38</th>\n",
              "      <td>quant_hist_mean_5</td>\n",
              "      <td>9.625095e-04</td>\n",
              "      <td>0.001353</td>\n",
              "      <td>0.002698</td>\n",
              "    </tr>\n",
              "    <tr>\n",
              "      <th>39</th>\n",
              "      <td>quant_hist_mean_6</td>\n",
              "      <td>2.085230e-03</td>\n",
              "      <td>0.001253</td>\n",
              "      <td>0.005547</td>\n",
              "    </tr>\n",
              "  </tbody>\n",
              "</table>\n",
              "</div>"
            ],
            "text/plain": [
              "                                             features  importance_baseline  \\\n",
              "0                                      baseline value         9.926765e-03   \n",
              "1                                       accelerations         1.035325e-01   \n",
              "2                                      fetal_movement         4.708818e-03   \n",
              "3                                uterine_contractions         1.058922e-02   \n",
              "4                                 light_decelerations         6.170803e-04   \n",
              "5                            prolongued_decelerations         8.764041e-02   \n",
              "6                     abnormal_short_term_variability         1.576849e-01   \n",
              "7                mean_value_of_short_term_variability         1.492258e-01   \n",
              "8   percentage_of_time_with_abnormal_long_term_var...         8.983866e-02   \n",
              "9                 mean_value_of_long_term_variability         1.227784e-02   \n",
              "10                                    histogram_width         2.413741e-02   \n",
              "11                                      histogram_min         3.454206e-02   \n",
              "12                                      histogram_max         3.475578e-03   \n",
              "13                          histogram_number_of_peaks         1.292067e-03   \n",
              "14                                     histogram_mode         2.993087e-02   \n",
              "15                                     histogram_mean         1.002393e-01   \n",
              "16                                   histogram_median         5.230935e-02   \n",
              "17                                 histogram_variance         4.127107e-02   \n",
              "18                               uterine_cont_per_min         3.162570e-02   \n",
              "19                                       total_change         2.676057e-02   \n",
              "20                                  sqrt_total_change         1.688455e-02   \n",
              "21                                     hist_zeros_1.0         4.751671e-04   \n",
              "22                                     hist_zeros_2.0         0.000000e+00   \n",
              "23                                     hist_zeros_3.0         0.000000e+00   \n",
              "24                                     hist_zeros_4.0         0.000000e+00   \n",
              "25                                     hist_zeros_5.0         0.000000e+00   \n",
              "26                                     hist_zeros_7.0         0.000000e+00   \n",
              "27                                     hist_zeros_8.0         0.000000e+00   \n",
              "28                                    hist_zeros_10.0         0.000000e+00   \n",
              "29                                  hist_tendancy_0.0         0.000000e+00   \n",
              "30                                  hist_tendancy_1.0         4.129194e-04   \n",
              "31                                    sev_decel_0.001         0.000000e+00   \n",
              "32                                        quant_acc_1         5.073501e-03   \n",
              "33                                  quant_light_dec_1         2.024508e-03   \n",
              "34                                  quant_hist_mean_1         6.361066e-07   \n",
              "35                                  quant_hist_mean_2         0.000000e+00   \n",
              "36                                  quant_hist_mean_3         2.716066e-04   \n",
              "37                                  quant_hist_mean_4         1.834956e-04   \n",
              "38                                  quant_hist_mean_5         9.625095e-04   \n",
              "39                                  quant_hist_mean_6         2.085230e-03   \n",
              "\n",
              "    sm_importance_baseline  grid_search_importance  \n",
              "0                 0.016188                0.022117  \n",
              "1                 0.196017                0.130221  \n",
              "2                 0.002176                0.018725  \n",
              "3                 0.018089                0.031353  \n",
              "4                 0.001520                0.007721  \n",
              "5                 0.084955                0.047052  \n",
              "6                 0.181858                0.161897  \n",
              "7                 0.106684                0.079979  \n",
              "8                 0.084788                0.062785  \n",
              "9                 0.010061                0.019524  \n",
              "10                0.012982                0.030255  \n",
              "11                0.041812                0.028155  \n",
              "12                0.007130                0.021133  \n",
              "13                0.000236                0.013304  \n",
              "14                0.018789                0.047342  \n",
              "15                0.069639                0.079870  \n",
              "16                0.015301                0.045331  \n",
              "17                0.034043                0.036441  \n",
              "18                0.039799                0.023497  \n",
              "19                0.014003                0.015876  \n",
              "20                0.008660                0.020249  \n",
              "21                0.000014                0.002363  \n",
              "22                0.000000                0.000730  \n",
              "23                0.000770                0.000763  \n",
              "24                0.000000                0.000276  \n",
              "25                0.000000                0.000000  \n",
              "26                0.000000                0.000000  \n",
              "27                0.000000                0.000094  \n",
              "28                0.000000                0.000052  \n",
              "29                0.000000                0.005054  \n",
              "30                0.000000                0.003728  \n",
              "31                0.000000                0.000405  \n",
              "32                0.027740                0.020786  \n",
              "33                0.000827                0.005478  \n",
              "34                0.000361                0.001771  \n",
              "35                0.000000                0.001715  \n",
              "36                0.002952                0.003749  \n",
              "37                0.000000                0.001967  \n",
              "38                0.001353                0.002698  \n",
              "39                0.001253                0.005547  "
            ]
          },
          "metadata": {
            "tags": []
          },
          "execution_count": 38
        }
      ]
    },
    {
      "cell_type": "code",
      "metadata": {
        "id": "v9bC4l0iybg6",
        "colab": {
          "base_uri": "https://localhost:8080/",
          "height": 282
        },
        "outputId": "12512510-db85-4d64-d578-a9108f4e203c"
      },
      "source": [
        "pd.Series(grid_tree.best_estimator_.feature_importances_, index=X.columns).nlargest(10).plot(kind='barh')"
      ],
      "execution_count": null,
      "outputs": [
        {
          "output_type": "execute_result",
          "data": {
            "text/plain": [
              "<matplotlib.axes._subplots.AxesSubplot at 0x7ff4ffc33090>"
            ]
          },
          "metadata": {
            "tags": []
          },
          "execution_count": 39
        },
        {
          "output_type": "display_data",
          "data": {
            "image/png": "[encoded data removed]",
            "text/plain": [
              "<Figure size 432x288 with 1 Axes>"
            ]
          },
          "metadata": {
            "tags": [],
            "needs_background": "light"
          }
        }
      ]
    },
    {
      "cell_type": "markdown",
      "metadata": {
        "id": "lOh9jgf_ybg7"
      },
      "source": [
        "## XGboost"
      ]
    },
    {
      "cell_type": "code",
      "metadata": {
        "id": "08w78PUDybg9"
      },
      "source": [
        "from xgboost import XGBClassifier\n",
        "xgb=XGBClassifier()"
      ],
      "execution_count": null,
      "outputs": []
    },
    {
      "cell_type": "code",
      "metadata": {
        "id": "KKaG0qkMybg-"
      },
      "source": [
        "xg_clf = XGBClassifier(objective ='binary:logistic', \n",
        "                           colsample_bytree = 0.75, \n",
        "                           subsample = 0.85,\n",
        "                           learning_rate = 0.1,\n",
        "                           max_depth = 11, \n",
        "                           alpha = 1, \n",
        "                           n_estimators = 1000,\n",
        "                          verbose=1, n_jobs=-1)"
      ],
      "execution_count": null,
      "outputs": []
    },
    {
      "cell_type": "code",
      "metadata": {
        "id": "HlwMyZyAybg-",
        "colab": {
          "base_uri": "https://localhost:8080/"
        },
        "outputId": "563fd8e8-82c9-467c-b9ae-6dfacb679ae7"
      },
      "source": [
        "xg_clf.fit(smX_train,smy_train)"
      ],
      "execution_count": null,
      "outputs": [
        {
          "output_type": "execute_result",
          "data": {
            "text/plain": [
              "XGBClassifier(alpha=1, base_score=0.5, booster='gbtree', colsample_bylevel=1,\n",
              "              colsample_bynode=1, colsample_bytree=0.75, gamma=0,\n",
              "              learning_rate=0.1, max_delta_step=0, max_depth=11,\n",
              "              min_child_weight=1, missing=None, n_estimators=1000, n_jobs=-1,\n",
              "              nthread=None, objective='binary:logistic', random_state=0,\n",
              "              reg_alpha=0, reg_lambda=1, scale_pos_weight=1, seed=None,\n",
              "              silent=None, subsample=0.85, verbose=1, verbosity=1)"
            ]
          },
          "metadata": {
            "tags": []
          },
          "execution_count": 46
        }
      ]
    },
    {
      "cell_type": "code",
      "metadata": {
        "id": "cK1eowztybg_"
      },
      "source": [
        "y_pred = xg_clf.predict(X_test.values)"
      ],
      "execution_count": null,
      "outputs": []
    },
    {
      "cell_type": "code",
      "metadata": {
        "id": "6uMvZz8tybg_",
        "colab": {
          "base_uri": "https://localhost:8080/"
        },
        "outputId": "966cff79-f220-4e19-d64f-10b476862154"
      },
      "source": [
        "evaluation(y_test,y_pred)"
      ],
      "execution_count": null,
      "outputs": [
        {
          "output_type": "stream",
          "text": [
            "Evaluation Metrics:\n",
            "Accuracy: 0.9605263157894737\n",
            "Recall: 0.9828850855745721\n",
            "F1 Score: 0.9745454545454545\n",
            "Precision: 0.9663461538461539\n",
            "\n",
            "Confusion Matrix:\n",
            " TN,  FP, FN, TP\n",
            "[402   7  14 109]\n"
          ],
          "name": "stdout"
        }
      ]
    },
    {
      "cell_type": "code",
      "metadata": {
        "id": "_CmH4PjTybhA"
      },
      "source": [
        "coef_table = pd.DataFrame(list(X_train.columns)).copy()\n",
        "coef_table.insert(len(coef_table.columns),\"Coefs\",xg_clf.feature_importances_.transpose())"
      ],
      "execution_count": null,
      "outputs": []
    },
    {
      "cell_type": "code",
      "metadata": {
        "id": "ifagCaAIybhB",
        "colab": {
          "base_uri": "https://localhost:8080/",
          "height": 1000
        },
        "outputId": "accf4816-62ed-4fd4-e3f7-082a4b35c032"
      },
      "source": [
        "coef_table"
      ],
      "execution_count": null,
      "outputs": [
        {
          "output_type": "execute_result",
          "data": {
            "text/html": [
              "<div>\n",
              "<style scoped>\n",
              "    .dataframe tbody tr th:only-of-type {\n",
              "        vertical-align: middle;\n",
              "    }\n",
              "\n",
              "    .dataframe tbody tr th {\n",
              "        vertical-align: top;\n",
              "    }\n",
              "\n",
              "    .dataframe thead th {\n",
              "        text-align: right;\n",
              "    }\n",
              "</style>\n",
              "<table border=\"1\" class=\"dataframe\">\n",
              "  <thead>\n",
              "    <tr style=\"text-align: right;\">\n",
              "      <th></th>\n",
              "      <th>0</th>\n",
              "      <th>Coefs</th>\n",
              "    </tr>\n",
              "  </thead>\n",
              "  <tbody>\n",
              "    <tr>\n",
              "      <th>0</th>\n",
              "      <td>baseline value</td>\n",
              "      <td>0.012179</td>\n",
              "    </tr>\n",
              "    <tr>\n",
              "      <th>1</th>\n",
              "      <td>accelerations</td>\n",
              "      <td>0.170285</td>\n",
              "    </tr>\n",
              "    <tr>\n",
              "      <th>2</th>\n",
              "      <td>fetal_movement</td>\n",
              "      <td>0.014384</td>\n",
              "    </tr>\n",
              "    <tr>\n",
              "      <th>3</th>\n",
              "      <td>uterine_contractions</td>\n",
              "      <td>0.022601</td>\n",
              "    </tr>\n",
              "    <tr>\n",
              "      <th>4</th>\n",
              "      <td>light_decelerations</td>\n",
              "      <td>0.008957</td>\n",
              "    </tr>\n",
              "    <tr>\n",
              "      <th>5</th>\n",
              "      <td>prolongued_decelerations</td>\n",
              "      <td>0.121696</td>\n",
              "    </tr>\n",
              "    <tr>\n",
              "      <th>6</th>\n",
              "      <td>abnormal_short_term_variability</td>\n",
              "      <td>0.103411</td>\n",
              "    </tr>\n",
              "    <tr>\n",
              "      <th>7</th>\n",
              "      <td>mean_value_of_short_term_variability</td>\n",
              "      <td>0.054614</td>\n",
              "    </tr>\n",
              "    <tr>\n",
              "      <th>8</th>\n",
              "      <td>percentage_of_time_with_abnormal_long_term_var...</td>\n",
              "      <td>0.013397</td>\n",
              "    </tr>\n",
              "    <tr>\n",
              "      <th>9</th>\n",
              "      <td>mean_value_of_long_term_variability</td>\n",
              "      <td>0.006687</td>\n",
              "    </tr>\n",
              "    <tr>\n",
              "      <th>10</th>\n",
              "      <td>histogram_width</td>\n",
              "      <td>0.008512</td>\n",
              "    </tr>\n",
              "    <tr>\n",
              "      <th>11</th>\n",
              "      <td>histogram_min</td>\n",
              "      <td>0.016634</td>\n",
              "    </tr>\n",
              "    <tr>\n",
              "      <th>12</th>\n",
              "      <td>histogram_max</td>\n",
              "      <td>0.011065</td>\n",
              "    </tr>\n",
              "    <tr>\n",
              "      <th>13</th>\n",
              "      <td>histogram_number_of_peaks</td>\n",
              "      <td>0.014031</td>\n",
              "    </tr>\n",
              "    <tr>\n",
              "      <th>14</th>\n",
              "      <td>histogram_mode</td>\n",
              "      <td>0.046217</td>\n",
              "    </tr>\n",
              "    <tr>\n",
              "      <th>15</th>\n",
              "      <td>histogram_mean</td>\n",
              "      <td>0.038869</td>\n",
              "    </tr>\n",
              "    <tr>\n",
              "      <th>16</th>\n",
              "      <td>histogram_median</td>\n",
              "      <td>0.015136</td>\n",
              "    </tr>\n",
              "    <tr>\n",
              "      <th>17</th>\n",
              "      <td>histogram_variance</td>\n",
              "      <td>0.015201</td>\n",
              "    </tr>\n",
              "    <tr>\n",
              "      <th>18</th>\n",
              "      <td>uterine_cont_per_min</td>\n",
              "      <td>0.009990</td>\n",
              "    </tr>\n",
              "    <tr>\n",
              "      <th>19</th>\n",
              "      <td>total_change</td>\n",
              "      <td>0.007741</td>\n",
              "    </tr>\n",
              "    <tr>\n",
              "      <th>20</th>\n",
              "      <td>sqrt_total_change</td>\n",
              "      <td>0.007718</td>\n",
              "    </tr>\n",
              "    <tr>\n",
              "      <th>21</th>\n",
              "      <td>hist_zeros_1.0</td>\n",
              "      <td>0.008505</td>\n",
              "    </tr>\n",
              "    <tr>\n",
              "      <th>22</th>\n",
              "      <td>hist_zeros_2.0</td>\n",
              "      <td>0.005723</td>\n",
              "    </tr>\n",
              "    <tr>\n",
              "      <th>23</th>\n",
              "      <td>hist_zeros_3.0</td>\n",
              "      <td>0.010745</td>\n",
              "    </tr>\n",
              "    <tr>\n",
              "      <th>24</th>\n",
              "      <td>hist_zeros_4.0</td>\n",
              "      <td>0.000000</td>\n",
              "    </tr>\n",
              "    <tr>\n",
              "      <th>25</th>\n",
              "      <td>hist_zeros_5.0</td>\n",
              "      <td>0.000000</td>\n",
              "    </tr>\n",
              "    <tr>\n",
              "      <th>26</th>\n",
              "      <td>hist_zeros_7.0</td>\n",
              "      <td>0.000000</td>\n",
              "    </tr>\n",
              "    <tr>\n",
              "      <th>27</th>\n",
              "      <td>hist_zeros_8.0</td>\n",
              "      <td>0.000000</td>\n",
              "    </tr>\n",
              "    <tr>\n",
              "      <th>28</th>\n",
              "      <td>hist_zeros_10.0</td>\n",
              "      <td>0.000000</td>\n",
              "    </tr>\n",
              "    <tr>\n",
              "      <th>29</th>\n",
              "      <td>hist_tendancy_0.0</td>\n",
              "      <td>0.008917</td>\n",
              "    </tr>\n",
              "    <tr>\n",
              "      <th>30</th>\n",
              "      <td>hist_tendancy_1.0</td>\n",
              "      <td>0.004854</td>\n",
              "    </tr>\n",
              "    <tr>\n",
              "      <th>31</th>\n",
              "      <td>sev_decel_0.001</td>\n",
              "      <td>0.000000</td>\n",
              "    </tr>\n",
              "    <tr>\n",
              "      <th>32</th>\n",
              "      <td>quant_acc_1</td>\n",
              "      <td>0.000000</td>\n",
              "    </tr>\n",
              "    <tr>\n",
              "      <th>33</th>\n",
              "      <td>quant_light_dec_1</td>\n",
              "      <td>0.017095</td>\n",
              "    </tr>\n",
              "    <tr>\n",
              "      <th>34</th>\n",
              "      <td>quant_hist_mean_1</td>\n",
              "      <td>0.028982</td>\n",
              "    </tr>\n",
              "    <tr>\n",
              "      <th>35</th>\n",
              "      <td>quant_hist_mean_2</td>\n",
              "      <td>0.015790</td>\n",
              "    </tr>\n",
              "    <tr>\n",
              "      <th>36</th>\n",
              "      <td>quant_hist_mean_3</td>\n",
              "      <td>0.037434</td>\n",
              "    </tr>\n",
              "    <tr>\n",
              "      <th>37</th>\n",
              "      <td>quant_hist_mean_4</td>\n",
              "      <td>0.011724</td>\n",
              "    </tr>\n",
              "    <tr>\n",
              "      <th>38</th>\n",
              "      <td>quant_hist_mean_5</td>\n",
              "      <td>0.009974</td>\n",
              "    </tr>\n",
              "    <tr>\n",
              "      <th>39</th>\n",
              "      <td>quant_hist_mean_6</td>\n",
              "      <td>0.120930</td>\n",
              "    </tr>\n",
              "  </tbody>\n",
              "</table>\n",
              "</div>"
            ],
            "text/plain": [
              "                                                    0     Coefs\n",
              "0                                      baseline value  0.012179\n",
              "1                                       accelerations  0.170285\n",
              "2                                      fetal_movement  0.014384\n",
              "3                                uterine_contractions  0.022601\n",
              "4                                 light_decelerations  0.008957\n",
              "5                            prolongued_decelerations  0.121696\n",
              "6                     abnormal_short_term_variability  0.103411\n",
              "7                mean_value_of_short_term_variability  0.054614\n",
              "8   percentage_of_time_with_abnormal_long_term_var...  0.013397\n",
              "9                 mean_value_of_long_term_variability  0.006687\n",
              "10                                    histogram_width  0.008512\n",
              "11                                      histogram_min  0.016634\n",
              "12                                      histogram_max  0.011065\n",
              "13                          histogram_number_of_peaks  0.014031\n",
              "14                                     histogram_mode  0.046217\n",
              "15                                     histogram_mean  0.038869\n",
              "16                                   histogram_median  0.015136\n",
              "17                                 histogram_variance  0.015201\n",
              "18                               uterine_cont_per_min  0.009990\n",
              "19                                       total_change  0.007741\n",
              "20                                  sqrt_total_change  0.007718\n",
              "21                                     hist_zeros_1.0  0.008505\n",
              "22                                     hist_zeros_2.0  0.005723\n",
              "23                                     hist_zeros_3.0  0.010745\n",
              "24                                     hist_zeros_4.0  0.000000\n",
              "25                                     hist_zeros_5.0  0.000000\n",
              "26                                     hist_zeros_7.0  0.000000\n",
              "27                                     hist_zeros_8.0  0.000000\n",
              "28                                    hist_zeros_10.0  0.000000\n",
              "29                                  hist_tendancy_0.0  0.008917\n",
              "30                                  hist_tendancy_1.0  0.004854\n",
              "31                                    sev_decel_0.001  0.000000\n",
              "32                                        quant_acc_1  0.000000\n",
              "33                                  quant_light_dec_1  0.017095\n",
              "34                                  quant_hist_mean_1  0.028982\n",
              "35                                  quant_hist_mean_2  0.015790\n",
              "36                                  quant_hist_mean_3  0.037434\n",
              "37                                  quant_hist_mean_4  0.011724\n",
              "38                                  quant_hist_mean_5  0.009974\n",
              "39                                  quant_hist_mean_6  0.120930"
            ]
          },
          "metadata": {
            "tags": []
          },
          "execution_count": 51
        }
      ]
    },
    {
      "cell_type": "code",
      "metadata": {
        "id": "pRcEpZyCybhB"
      },
      "source": [
        "clf_xgb = XGBClassifier(objective = 'binary:logistic')\n",
        "param_dist = {'n_estimators': [500,1000,1500],\n",
        "              'learning_rate': [0.1,0.07,0.05,0.03,0.01],\n",
        "              'max_depth': [9,10,11,12,13],\n",
        "              'colsample_bytree': [0.5,0.45,0.4],\n",
        "              'min_child_weight': [1, 2, 3]\n",
        "             }"
      ],
      "execution_count": null,
      "outputs": []
    },
    {
      "cell_type": "code",
      "metadata": {
        "id": "Qg2WcxBAybhC"
      },
      "source": [
        "grid_xg = GridSearchCV(estimator=clf_xgb,\n",
        "                      param_grid= param_dist,\n",
        "                      scoring='f1',\n",
        "                      n_jobs=-1,\n",
        "                      verbose=1,\n",
        "                      iid=False,\n",
        "                      cv=10)"
      ],
      "execution_count": null,
      "outputs": []
    },
    {
      "cell_type": "code",
      "metadata": {
        "id": "SjPNeXV8ybhC",
        "colab": {
          "base_uri": "https://localhost:8080/"
        },
        "outputId": "4cac83e9-d560-43c4-a54b-fcb0cb9e2e6d"
      },
      "source": [
        "grid_xg.fit(smX_train,smy_train)"
      ],
      "execution_count": null,
      "outputs": [
        {
          "output_type": "stream",
          "text": [
            "Fitting 10 folds for each of 675 candidates, totalling 6750 fits\n"
          ],
          "name": "stdout"
        },
        {
          "output_type": "stream",
          "text": [
            "[Parallel(n_jobs=-1)]: Using backend LokyBackend with 2 concurrent workers.\n",
            "[Parallel(n_jobs=-1)]: Done  46 tasks      | elapsed:  1.5min\n",
            "[Parallel(n_jobs=-1)]: Done 196 tasks      | elapsed:  6.3min\n",
            "[Parallel(n_jobs=-1)]: Done 446 tasks      | elapsed: 14.6min\n",
            "[Parallel(n_jobs=-1)]: Done 796 tasks      | elapsed: 27.1min\n",
            "[Parallel(n_jobs=-1)]: Done 1246 tasks      | elapsed: 44.8min\n",
            "[Parallel(n_jobs=-1)]: Done 1796 tasks      | elapsed: 69.5min\n",
            "[Parallel(n_jobs=-1)]: Done 2446 tasks      | elapsed: 103.4min\n",
            "[Parallel(n_jobs=-1)]: Done 3196 tasks      | elapsed: 128.3min\n",
            "[Parallel(n_jobs=-1)]: Done 4046 tasks      | elapsed: 162.9min\n",
            "[Parallel(n_jobs=-1)]: Done 4996 tasks      | elapsed: 203.5min\n",
            "[Parallel(n_jobs=-1)]: Done 6046 tasks      | elapsed: 240.5min\n",
            "[Parallel(n_jobs=-1)]: Done 6750 out of 6750 | elapsed: 275.3min finished\n"
          ],
          "name": "stderr"
        },
        {
          "output_type": "execute_result",
          "data": {
            "text/plain": [
              "GridSearchCV(cv=10, error_score=nan,\n",
              "             estimator=XGBClassifier(base_score=0.5, booster='gbtree',\n",
              "                                     colsample_bylevel=1, colsample_bynode=1,\n",
              "                                     colsample_bytree=1, gamma=0,\n",
              "                                     learning_rate=0.1, max_delta_step=0,\n",
              "                                     max_depth=3, min_child_weight=1,\n",
              "                                     missing=None, n_estimators=100, n_jobs=1,\n",
              "                                     nthread=None, objective='binary:logistic',\n",
              "                                     random_state=0, reg_alpha=0, reg_lambda=1,\n",
              "                                     scale_pos_weight=1, seed=None, silent=None,\n",
              "                                     subsample=1, verbosity=1),\n",
              "             iid=False, n_jobs=-1,\n",
              "             param_grid={'colsample_bytree': [0.5, 0.45, 0.4],\n",
              "                         'learning_rate': [0.1, 0.07, 0.05, 0.03, 0.01],\n",
              "                         'max_depth': [9, 10, 11, 12, 13],\n",
              "                         'min_child_weight': [1, 2, 3],\n",
              "                         'n_estimators': [500, 1000, 1500]},\n",
              "             pre_dispatch='2*n_jobs', refit=True, return_train_score=False,\n",
              "             scoring='f1', verbose=1)"
            ]
          },
          "metadata": {
            "tags": []
          },
          "execution_count": 55
        }
      ]
    },
    {
      "cell_type": "code",
      "metadata": {
        "id": "xihyLraxybhD",
        "colab": {
          "base_uri": "https://localhost:8080/"
        },
        "outputId": "cf7b24e6-c643-454e-ec09-954bdc4d5d1c"
      },
      "source": [
        "grid_xg.best_params_"
      ],
      "execution_count": null,
      "outputs": [
        {
          "output_type": "execute_result",
          "data": {
            "text/plain": [
              "{'colsample_bytree': 0.45,\n",
              " 'learning_rate': 0.07,\n",
              " 'max_depth': 12,\n",
              " 'min_child_weight': 2,\n",
              " 'n_estimators': 500}"
            ]
          },
          "metadata": {
            "tags": []
          },
          "execution_count": 56
        }
      ]
    },
    {
      "cell_type": "code",
      "metadata": {
        "id": "sjM37sCtybhE"
      },
      "source": [
        "y_pred = grid_xg.best_estimator_.predict(X_test.values)"
      ],
      "execution_count": null,
      "outputs": []
    },
    {
      "cell_type": "code",
      "metadata": {
        "id": "5A7_zD4_ybhE",
        "colab": {
          "base_uri": "https://localhost:8080/"
        },
        "outputId": "62353a6d-228f-4fdc-94c3-a7a9ec3b01d3"
      },
      "source": [
        "evaluation(y_test,y_pred)"
      ],
      "execution_count": null,
      "outputs": [
        {
          "output_type": "stream",
          "text": [
            "Evaluation Metrics:\n",
            "Accuracy: 0.9605263157894737\n",
            "Recall: 0.9853300733496333\n",
            "F1 Score: 0.9746070133010883\n",
            "Precision: 0.9641148325358851\n",
            "\n",
            "Confusion Matrix:\n",
            " TN,  FP, FN, TP\n",
            "[403   6  15 108]\n"
          ],
          "name": "stdout"
        }
      ]
    },
    {
      "cell_type": "code",
      "metadata": {
        "id": "Bz_Z1YTmybhF",
        "colab": {
          "base_uri": "https://localhost:8080/",
          "height": 311
        },
        "outputId": "b5397b9a-c16c-4bde-afc1-ebd7fad12408"
      },
      "source": [
        "from xgboost import plot_importance\n",
        "plot_importance(grid_xg.best_estimator_)"
      ],
      "execution_count": null,
      "outputs": [
        {
          "output_type": "execute_result",
          "data": {
            "text/plain": [
              "<matplotlib.axes._subplots.AxesSubplot at 0x7ff4ffb435d0>"
            ]
          },
          "metadata": {
            "tags": []
          },
          "execution_count": 68
        },
        {
          "output_type": "display_data",
          "data": {
            "image/png": "[encoded data removed]",
            "text/plain": [
              "<Figure size 432x288 with 1 Axes>"
            ]
          },
          "metadata": {
            "tags": [],
            "needs_background": "light"
          }
        }
      ]
    },
    {
      "cell_type": "code",
      "metadata": {
        "id": "FMPsBOsDybhg",
        "colab": {
          "base_uri": "https://localhost:8080/",
          "height": 311
        },
        "outputId": "087b4155-d242-4847-ca2e-9073838211eb"
      },
      "source": [
        "plot_importance(grid_xg.best_estimator_,max_num_features=10)"
      ],
      "execution_count": null,
      "outputs": [
        {
          "output_type": "execute_result",
          "data": {
            "text/plain": [
              "<matplotlib.axes._subplots.AxesSubplot at 0x7ff501d75390>"
            ]
          },
          "metadata": {
            "tags": []
          },
          "execution_count": 62
        },
        {
          "output_type": "display_data",
          "data": {
            "image/png": "[encoded data removed]",
            "text/plain": [
              "<Figure size 432x288 with 1 Axes>"
            ]
          },
          "metadata": {
            "tags": [],
            "needs_background": "light"
          }
        }
      ]
    },
    {
      "cell_type": "code",
      "metadata": {
        "id": "kq8pb_xhW-yx"
      },
      "source": [],
      "execution_count": null,
      "outputs": []
    }
  ]
}